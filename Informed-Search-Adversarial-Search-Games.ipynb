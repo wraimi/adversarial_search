{
 "cells": [
  {
   "cell_type": "markdown",
   "metadata": {
    "deletable": false,
    "editable": false,
    "nbgrader": {
     "grade": false,
     "locked": true,
     "solution": false
    }
   },
   "source": [
    "# Introduction to Artificial Intelligence\n",
    "\n",
    "# Assignment 14: Informed Search, Adversarial Search, Games\n",
    "\n",
    "--- \n",
    "\n",
    "_Authors: Jacob Koehler, Dhavide Aruliah_\n",
    "\n",
    "---\n",
    "<a id=\"questions\"></a>\n",
    "## Questions\n",
    "\n",
    "+ [**Question 1: Representing a Weighted Graph in Python**](#q-dict)\n",
    "+ [**Question 2: Constructing a Weighted Graph in `networkx`**](#q-nx-dict)\n",
    "+ [**Question 3: Setting up Dijkstra's Algorithm**](#q-setting-up)\n",
    "+ [**Question 4: Using `heappush` & `heappop`**](#q-using-heap)\n",
    "+ [**Question 5: Implementing Dijkstra's Algorithm**](#q-implementing-dijkstra)\n",
    "+ [**Question 6: Applying Dijkstra's Algorithm in Romania**](#q-applying-dijkstra)\n",
    "+ [**Question 7: Applying the A* Algorithm in Romania***](#q-finding)\n",
    "+ [**Question 8: Using Distinct Heuristic Functions***](#q-using)\n",
    "+ [**Question 9: Searching for Paths in a Road Network**](#q-searching)\n",
    "+ [**Question 10: Constructing a Distance Heuristic for A***](#q-constructing-dist)\n",
    "+ [**Question 11: Representing Games**](#q-representing-games)\n",
    "+ [**Question 12: Identifying the Favored Player**](#q-favoring)\n",
    "+ [**Question 13: Relating Minimax to a Search Algorithm**](#q-relating)\n",
    "+ [**Question 14: Representing the Tic Tac Toe Board**](#q-representing)\n",
    "+ [**Question 15: Creating the Initial Tic Tac Toe Board**](#q-initial)\n",
    "+ [**Question 16: Determining a Row Winner**](#q-checking-row)\n",
    "+ [**Question 17: Determining a Column Winner**](#q-checking-col)\n",
    "+ [**Question 18: Checking for a Diagonal Winner**](#q-checking-diag)\n",
    "+ [**Question 19: Computing the Utility**](#q-computing-utility)\n",
    "+ [**Question 20: Using the `easyAI` Class**](#q-using-easyai)\n",
    "+ [**Question 21: Identifying a `TicTacToe` Winner**](#q-winning-tictactoe)"
   ]
  },
  {
   "cell_type": "markdown",
   "metadata": {
    "deletable": false,
    "editable": false,
    "nbgrader": {
     "grade": false,
     "locked": true,
     "solution": false
    }
   },
   "source": [
    "## Pathfinding with Dijkstra and A*: Helping Shakey Find its Way\n",
    "\n",
    "<center>\n",
    "<img src = 'resource/asnlib/publicdata/shakey.jpg' width = 10%/>\n",
    "</center>"
   ]
  },
  {
   "cell_type": "markdown",
   "metadata": {
    "deletable": false,
    "editable": false,
    "nbgrader": {
     "grade": false,
     "locked": true,
     "solution": false
    }
   },
   "source": [
    "---\n",
    "\n",
    "## Background\n",
    "\n",
    "The first part of this assignment explores applications of path finding through two classic algorithms: **Dijkstra's** and **A\\***.\n",
    "\n",
    "Dijsktra's algorithm was developed in the 1950s and bears the name of its first author, Edgar Dijkstra.  Dijkstra was working on experiments with Shakey the robot and autonomous transportation.  Dijkstra later recounted that he invented the algorithm in 20 minutes while resting on a walk.  This algorithm would be improved upon with the A* approach, also from the team working on Shakey.\n",
    "\n",
    "If you are interested, the Stanford University Libraries has released a historical documentary of the project; please do watch the video below.  It provides a marvelous view into the early history of autonomous transportation."
   ]
  },
  {
   "cell_type": "code",
   "execution_count": 1,
   "metadata": {
    "collapsed": true,
    "deletable": false,
    "editable": false,
    "nbgrader": {
     "grade": false,
     "locked": true,
     "solution": false
    }
   },
   "outputs": [],
   "source": [
    "%matplotlib inline\n",
    "import matplotlib.pyplot as plt\n",
    "import numpy as np\n",
    "import pandas as pd\n",
    "import networkx as nx\n",
    "from warnings import filterwarnings\n",
    "filterwarnings('ignore')"
   ]
  },
  {
   "cell_type": "code",
   "execution_count": 2,
   "metadata": {
    "deletable": false,
    "editable": false,
    "nbgrader": {
     "grade": false,
     "locked": true,
     "solution": false
    }
   },
   "outputs": [
    {
     "data": {
      "text/html": [
       "<center><iframe width=\"560\" height=\"315\" src=\"https://www.youtube.com/embed/GmU7SimFkpU?rel=0&amp;controls=0&amp;showinfo=0\" frameborder=\"0\" allowfullscreen></iframe></center>"
      ],
      "text/plain": [
       "<IPython.core.display.HTML object>"
      ]
     },
     "execution_count": 2,
     "metadata": {},
     "output_type": "execute_result"
    }
   ],
   "source": [
    "from IPython.display import HTML\n",
    "HTML('<center><iframe width=\"560\" height=\"315\" src=\"https://www.youtube.com/embed/GmU7SimFkpU?rel=0&amp;controls=0&amp;showinfo=0\" frameborder=\"0\" allowfullscreen></iframe></center>')"
   ]
  },
  {
   "cell_type": "markdown",
   "metadata": {
    "deletable": false,
    "editable": false,
    "nbgrader": {
     "grade": false,
     "locked": true,
     "solution": false
    }
   },
   "source": [
    "### Weighted graphs\n",
    "\n",
    "To get started, we'll consider graphs with *weighted edges*; that is, given a graph, we can associate with each edge numerical weights (or even other kinds of data). Weighted graphs obviously have great utility in transportation or communication networks. An obvious interpretation of numerical edge weights is distance (e.g., lengths of flight paths or roads in a transportation network) but they could have other interpretations (e.g., capacity of a connection in a communication network, etc.).\n",
    "\n",
    "<center>\n",
    "<img src = resource/asnlib/publicdata/basic_graph.png>\n",
    "</center>\n",
    "\n",
    "In the image above, for example, the edge $(a,b)$ has weight 3 and the edge $(a,d)$ has weight 1. Remember, edges can be represented as tuples of vertices (in a directed graph, the order of the vertices tells the direction of the edge). When looking for paths in a weighted graph, the edge weights modify the notion of path length and hence alter the determination of efficient routes in a graph."
   ]
  },
  {
   "cell_type": "markdown",
   "metadata": {
    "deletable": false,
    "editable": false,
    "nbgrader": {
     "grade": false,
     "locked": true,
     "solution": false
    }
   },
   "source": [
    "To deal with weighted graphs programmatically, we need to have programmatic representations. In Python, one straightforward representation uses a **dictionary of dictionaries** (extending the version of a dictionary of lists from the last assignment). In this case, the keys at the first level represent the nodes, and the values are dictionaries whose keys are adjacenct vertices and whose values are the weights associated with the edge connecting the two vertices. For example, in the graph above, we would represent vertex `a` as:\n",
    "\n",
    "```python\n",
    "{'a': {'b': 3, 'd': 1}}\n",
    "```\n",
    "\n",
    "Again, for undirected graphs, there can be redundancy in such a representation in deciding whether to represent, for example, the edge connection vertices `a` and `b` in both the dictionaries associated with vertices `a` and `b`."
   ]
  },
  {
   "cell_type": "code",
   "execution_count": 3,
   "metadata": {
    "collapsed": true
   },
   "outputs": [],
   "source": [
    "d_dicts = {'a': {'b': 3, 'd': 1},\n",
    "           'b': {'c': 2, 'a': 3},\n",
    "           'c': {'b':2, 'f': 5},\n",
    "           'd': {'a':1, 'e': 8,'f': 12},\n",
    "           'e': {'d':8, 'f': 4},\n",
    "           'f': {'d':12, 'e': 4}\n",
    "          }"
   ]
  },
  {
   "cell_type": "markdown",
   "metadata": {
    "deletable": false,
    "editable": false,
    "nbgrader": {
     "grade": false,
     "locked": true,
     "solution": false
    }
   },
   "source": [
    "<a id=\"q-dict\"></a>\n",
    "[Return to top](#questions)"
   ]
  },
  {
   "cell_type": "markdown",
   "metadata": {
    "deletable": false,
    "editable": false,
    "nbgrader": {
     "grade": false,
     "locked": true,
     "solution": false
    }
   },
   "source": [
    "---\n",
    "### Question 1: Representing a Weighted Graph in Python\n",
    "\n",
    "Construct a dictionary of dictionaries to represent the graph in this figure.\n",
    "\n",
    "<center>\n",
    "<img src = resource/asnlib/publicdata/basic_graph.png>\n",
    "</center>\n",
    "\n",
    "+ Save the result as `ans_1`.\n",
    "+ You don't have to worry about repeating edges, i.e., if you have already described the edge connecting `a` and `b` in the dict for `a`, you need not describe that edge again in the dict for `b` (but it is acceptable if you do).\n",
    "+ Every vertex should be represented as a key of the outermost dict."
   ]
  },
  {
   "cell_type": "code",
   "execution_count": 4,
   "metadata": {
    "collapsed": true
   },
   "outputs": [],
   "source": [
    "### GRADED\n",
    "### QUESTION 1\n",
    "### Build a dict of dicts representation of the graph in the image\n",
    "### above, and save it as ans_1 below.  Note that while you don't\n",
    "### need to account for adjacencies twice, i.e., in node b we needn't add\n",
    "### information about a if it is contained in node a's entry,\n",
    "### every vertex should be represented as a key which may lead to slight\n",
    "### redundancy with the last vertex f.\n",
    "### YOUR SOLUTION HERE:\n",
    "ans_1 = d_dicts\n"
   ]
  },
  {
   "cell_type": "code",
   "execution_count": 5,
   "metadata": {
    "collapsed": true,
    "deletable": false,
    "editable": false,
    "nbgrader": {
     "grade": true,
     "grade_id": "Question 01",
     "locked": true,
     "points": "9",
     "solution": false
    }
   },
   "outputs": [],
   "source": [
    "###\n",
    "### AUTOGRADER TEST - DO NOT REMOVE\n",
    "###\n",
    "G = ans_1 # Preserving result in more convenient identifier"
   ]
  },
  {
   "cell_type": "markdown",
   "metadata": {
    "deletable": false,
    "editable": false,
    "nbgrader": {
     "grade": false,
     "locked": true,
     "solution": false
    }
   },
   "source": [
    "To implement this with `networkx` involves adding a key `weight` within our dictionary.  For example, as we first represented the vertex `a`:\n",
    "\n",
    "```python\n",
    "'a': {'b':  3, 'd':  1}\n",
    "```\n",
    "\n",
    "we will add another layer of nested dictionaries that read as `{'weight': value}`.  For example, vertex `a` becomes:\n",
    "\n",
    "```python\n",
    "'a': {'b': {'weight': 3}, 'd': {'weight': 1}\n",
    "```\n",
    "This is the expected form of input for the `networkx` function `from_dict_of_dicts`."
   ]
  },
  {
   "cell_type": "markdown",
   "metadata": {
    "deletable": false,
    "editable": false,
    "nbgrader": {
     "grade": false,
     "locked": true,
     "solution": false
    }
   },
   "source": [
    "<a id=\"q-nx-dict\"></a>\n",
    "[Return to top](#questions)"
   ]
  },
  {
   "cell_type": "code",
   "execution_count": 6,
   "metadata": {
    "deletable": false,
    "editable": false,
    "nbgrader": {
     "grade": false,
     "locked": true,
     "solution": false
    }
   },
   "outputs": [
    {
     "ename": "SyntaxError",
     "evalue": "invalid syntax (<ipython-input-6-bf04bd8f39fc>, line 1)",
     "traceback": [
      "\u001b[0;36m  File \u001b[0;32m\"<ipython-input-6-bf04bd8f39fc>\"\u001b[0;36m, line \u001b[0;32m1\u001b[0m\n\u001b[0;31m    ---\u001b[0m\n\u001b[0m       ^\u001b[0m\n\u001b[0;31mSyntaxError\u001b[0m\u001b[0;31m:\u001b[0m invalid syntax\n"
     ],
     "output_type": "error"
    }
   ],
   "source": [
    "---\n",
    "### Question 2: Constructing a Weighted Graph in `networkx`\n",
    "\n",
    "Your task is to modify the definition of `ans_2a` below to be consistent with the requirements for `networkx`'s `from_dict_of_dicts`.\n",
    "```python\n",
    "ans_2a =  {'a': {'b': 3, 'd': 1},\n",
    "         'b': {'c': 2},\n",
    "         'c': {'f': 5},\n",
    "         'd': {'e': 8, 'f': 12},\n",
    "         'e': {'f': 4}}\n",
    "```\n",
    "+ Modify the definition of `ans_2a` by adding an internal layeer of `dict`s with the key `weight` associated with the corresponding numerical values.\n",
    "+ Apply `nx.from_dict_of_dicts` to `ans_2a` and assign the result to `ans_2b`."
   ]
  },
  {
   "cell_type": "code",
   "execution_count": null,
   "metadata": {
    "collapsed": true
   },
   "outputs": [],
   "source": [
    "ans_2a =  {'a': {'b':{'weight': 3}, 'd': {'weight': 1}},\n",
    "         'b': {'c': {'weight': 2}},\n",
    "         'c': {'f': {'weight': 5}},\n",
    "         'd': {'e': {'weight': 8}, 'f': {'weight':12}},\n",
    "         'e': {'f': {'weight': 4}}}"
   ]
  },
  {
   "cell_type": "code",
   "execution_count": null,
   "metadata": {
    "collapsed": true
   },
   "outputs": [],
   "source": [
    "### GRADED\n",
    "### QUESTION 2\n",
    "### Adjust the dictionary ans_2a as above to be consistent with the\n",
    "###  requirements networkx conventions.\n",
    "### Use nx.from_dict_of_dicts on ans_2a & save as ans_2b.\n",
    "### YOUR SOLUTION HERE:\n",
    "ans_2a = ans_2a\n",
    "ans_2b = nx.from_dict_of_dicts(ans_2a)\n"
   ]
  },
  {
   "cell_type": "code",
   "execution_count": null,
   "metadata": {
    "collapsed": true,
    "deletable": false,
    "editable": false,
    "nbgrader": {
     "grade": true,
     "grade_id": "Question 02",
     "locked": true,
     "points": "10",
     "solution": false
    }
   },
   "outputs": [],
   "source": [
    "###\n",
    "### AUTOGRADER TEST - DO NOT REMOVE\n",
    "###\n"
   ]
  },
  {
   "cell_type": "code",
   "execution_count": null,
   "metadata": {
    "collapsed": true
   },
   "outputs": [],
   "source": [
    "ans_2a"
   ]
  },
  {
   "cell_type": "markdown",
   "metadata": {
    "deletable": false,
    "editable": false,
    "nbgrader": {
     "grade": false,
     "locked": true,
     "solution": false
    }
   },
   "source": [
    "## Dijkstra's Algorithm\n",
    "\n",
    "Now that we know how to work with weighted edges, we can look for *shortests paths* in a graph (treating the weights as distances). The problem that Dijkstra's algorithm aims to solve is simple: you want start at vertex $A$ in a graph and traverse an efficient path (as measured by summing edge weights) to terminate at some different vertex $B$.  Dijkstra suggested the following:\n",
    "\n",
    "1. Mark all nodes unvisited. Create a set of all the unvisited nodes called the *unvisited set*.\n",
    "\n",
    "2. Assign to every node a tentative distance value from $A$: set it to $0$ for the initial node and to $+\\infty$ for all other nodes. Set the initial node as the *current* node.\n",
    "<a id=\"dijkstra-3\"></a>\n",
    "3. For the current node, consider all unvisited neighbours. Calculate their tentative distances to $A$ through the current node. Compare the newly calculated tentative distance to the current assigned value and assign the smaller one. For example, if the current node $X$ is marked with a distance of 6 from $A$, and the edge connecting $X$ with a neighbor $Y$ has length 2, then the distance from $Y$ to $A$ through $X$ will be 6 + 2 = 8. If $X$ was previously marked with a distance greater than 8 then change it to 8. Otherwise, keep the current value.\n",
    "\n",
    "4. When we are done considering all of the unvisited neighbours of the current node, mark the current node as visited and remove it from the unvisited set. A visited node will never be checked again.\n",
    "\n",
    "5. Otherwise, select the unvisited node that is marked with the smallest tentative distance, set it as the new \"current node\", and go back to step 3\n",
    "\n",
    "This animated gif (from [Wikipedia Commons](https://commons.wikimedia.org/wiki/Main_Page)) demonstrates the algorithm in action.\n",
    "\n",
    "<center>\n",
    "<img src = \"https://upload.wikimedia.org/wikipedia/commons/2/23/Dijkstras_progress_animation.gif\" />\n",
    "    </center>\n",
    "    \n",
    "You will walk through these steps to build your own implementation of Dijkstra's algorithm in a Python function. Following that, you will explore its implementation in the `networkx` library (along with A* for heuristic search)."
   ]
  },
  {
   "cell_type": "markdown",
   "metadata": {
    "deletable": false,
    "editable": false,
    "nbgrader": {
     "grade": false,
     "locked": true,
     "solution": false
    }
   },
   "source": [
    "<a id=\"q-setting-up\"></a>\n",
    "[Return to top](#questions)"
   ]
  },
  {
   "cell_type": "markdown",
   "metadata": {
    "deletable": false,
    "editable": false,
    "nbgrader": {
     "grade": false,
     "locked": true,
     "solution": false
    }
   },
   "source": [
    "---\n",
    "### Question 3: Setting up Dijkstra's Algorithm\n",
    "\n",
    "Your first task is to complete the missing lines in the Python function `setup_dijkstra` so that the appropriate output is returned:\n",
    "```python\n",
    "def setup_dijkstra(start):\n",
    "    '''Initialize data structures for Dijkstra's algorithm\n",
    "    INPUT:\n",
    "      start: label of initial vertex\n",
    "    OUTPUT:\n",
    "      D: Dict of distances: initialize with start->0\n",
    "      P: Dict for predecessprs (traversal tree, initially empty)\n",
    "      Q: Priority queue (list) of tuples of form (distance, vertex)\n",
    "         Initialize with tuple (start,0)\n",
    "      S: Set for visited vertices (initially empty)\n",
    "    '''\n",
    "    D = ...\n",
    "    P = ...\n",
    "    Q = ...\n",
    "    S = ...\n",
    "    return D, P, Q, S\n",
    "```\n",
    "\n",
    "+ The input to `setup_dijkstra` is the label `start` of the initial node.\n",
    "+ The four Python objects `setup_dijkstra` returns are:\n",
    "  - `D`: a dictionary to store distances to each vertex;\n",
    "  - `P`: a dictionary to represent a traversal tree (initially empty);\n",
    "  - `Q`: a queue (list) to store nodes to visit; and\n",
    "  - `S`: a set to store visited nodes (initially empty).\n",
    "+ Dijkstra's algorithm begins with a starting vertex whose distance from itself is *zero*. Use this fact to initialize `D` and `Q` within `setup_dijkstra` (both of which have non-empty values)."
   ]
  },
  {
   "cell_type": "code",
   "execution_count": null,
   "metadata": {
    "collapsed": true
   },
   "outputs": [],
   "source": [
    "### GRADED\n",
    "### QUESTION 3\n",
    "### Complete the function setup as described above.\n",
    "def setup_dijkstra(start):\n",
    "    '''Initialize data structures for Dijkstra's algorithm\n",
    "    INPUT:\n",
    "      start: label of initial vertex\n",
    "    OUTPUT:\n",
    "      D: Dict of distances: initialize with start->0\n",
    "      P: Dict for predecessprs (traversal tree, initially empty)\n",
    "      Q: Priority queue (list) of tuples of form (distance, vertex)\n",
    "         Initialize with tuple (start,0)\n",
    "      S: Set for visited vertices (initially empty)\n",
    "    '''\n",
    "    D = {start: 0} \n",
    "    P = dict()\n",
    "    Q = [(0, start)]\n",
    "    S = set()\n",
    "    \n",
    "    return D,P,Q,S\n",
    "###\n",
    "### YOUR CODE HERE\n",
    "###\n"
   ]
  },
  {
   "cell_type": "code",
   "execution_count": null,
   "metadata": {
    "collapsed": true
   },
   "outputs": [],
   "source": [
    "\n",
    "\n",
    "print(setup_dijkstra('a'))"
   ]
  },
  {
   "cell_type": "code",
   "execution_count": null,
   "metadata": {
    "collapsed": true,
    "deletable": false,
    "editable": false,
    "nbgrader": {
     "grade": true,
     "grade_id": "Question 03",
     "locked": true,
     "points": "10",
     "solution": false
    }
   },
   "outputs": [],
   "source": [
    "###\n",
    "### AUTOGRADER TEST - DO NOT REMOVE\n",
    "###\n"
   ]
  },
  {
   "cell_type": "markdown",
   "metadata": {
    "deletable": false,
    "editable": false,
    "nbgrader": {
     "grade": false,
     "locked": true,
     "solution": false
    }
   },
   "source": [
    "You may notice in this Python implementation of `setup_dijkstra`, the dictionary `D` of putative distances is initialized with only one key-value pair (that for the vertex `start` being distance `0` from itself). In Dijkstra's algorithm, the initial state has all vertices being at distance $+\\infty$ from the `start` vertex except `start` (which is at distance `0` from itself). This is most simply implemented in Python using [the `dict` method `get`](https://docs.python.org/3/library/stdtypes.html#mapping-types-dict):\n",
    "\n",
    "> **`get`**`(`*`key[, default]`*`)`\n",
    ">\n",
    ">    Return the value for *`key`* if *`key`* is in the dictionary, else *`default`*. If *`default`* is not given, it defaults to `None`, so that this method never raises a `KeyError`.\n",
    "\n",
    "Thus, in our context, with the dictionary `D` storing putative distances of vertices to the initial vertex `start`, the invocation `D.get(V,float('inf'))` works as required. Intuitively, this means that our first steps would certainly be an improvement on infinite distance. Whenever a node is found to be at distance $+\\infty$ from `start`, its distance can be updated (if a shorter path is found) and the corrected distance pushed into the heap."
   ]
  },
  {
   "cell_type": "markdown",
   "metadata": {
    "deletable": false,
    "editable": false,
    "nbgrader": {
     "grade": false,
     "locked": true,
     "solution": false
    }
   },
   "source": [
    "### Relaxation\n",
    "\n",
    "The function `relax_dijkstra` provided below implements the [third step](#dijkstra-3) of Dijkstra's algorithm described above. The Python dictionary `get` method discussed above is used to advantage for the underlying logic. The inputs needed are:\n",
    "\n",
    "+ a graph `G` represented a dictionary of dictionaries with weights (i.e., as in Question 1 rather than as in Question 2).\n",
    "+ two vertices `u` and `v`\n",
    "+ the distance & predecessor dicts `D` and `P` as provided by `setup_dijkstra`.\n",
    "\n",
    "Practically, the relaxation function is used to explore all neighbors of a vertex, and to track of the weights of edges traversed to its neighbors. The dictionaries `D` and `P` are updated in place, so calling `relax_dijkstra` at every vertex until reaching the goal builds up the shortest paths."
   ]
  },
  {
   "cell_type": "code",
   "execution_count": null,
   "metadata": {
    "collapsed": true
   },
   "outputs": [],
   "source": [
    "def relax_dijkstra(G, start, neighbor, D, P):\n",
    "    '''\n",
    "    This function updates the distance & predecessor dictionaries\n",
    "    D & P by comparing their putative distances to the start vertex.\n",
    "    ------\n",
    "    G: Graph as dict of dicts\n",
    "    start: start vertex\n",
    "    neighbor: neighbor vertex\n",
    "    D: dict of dicts keeping track of distances\n",
    "    P: predecessor dictionary to track shortest path trees\n",
    "    '''\n",
    "    # Convenient shorthand for infinity\n",
    "    inf = float('inf')\n",
    "    # Shortcut estimate\n",
    "    d = D.get(start, inf) + G[start][neighbor]\n",
    "    # Compare shortcut to existing distance\n",
    "    if d < D.get(neighbor, inf):\n",
    "        # Update D and P accordingly\n",
    "        D[neighbor], P[neighbor] = d, start\n",
    "        print(D, P)\n",
    "        return True"
   ]
  },
  {
   "cell_type": "code",
   "execution_count": null,
   "metadata": {
    "collapsed": true,
    "deletable": false,
    "editable": false,
    "nbgrader": {
     "grade": false,
     "locked": true,
     "solution": false
    }
   },
   "outputs": [],
   "source": [
    "G = {'a': {'b': 3, 'd': 1},\n",
    "     'b': {'a': 3, 'c': 2},\n",
    "     'c': {'b': 2, 'f': 5},\n",
    "     'd': {'a': 1, 'e': 8, 'f': 12},\n",
    "     'e': {'d': 8, 'f': 4},\n",
    "     'f': {'c': 5, 'd': 12, 'e': 4}}"
   ]
  },
  {
   "cell_type": "code",
   "execution_count": null,
   "metadata": {
    "collapsed": true,
    "deletable": false,
    "editable": false,
    "nbgrader": {
     "grade": false,
     "locked": true,
     "solution": false
    }
   },
   "outputs": [],
   "source": [
    "### Implementing on our graph\n",
    "P = {}\n",
    "for u in G:\n",
    "    for v in G[u]:\n",
    "        relax_dijkstra(G, u, v, {u: 0}, P)"
   ]
  },
  {
   "cell_type": "markdown",
   "metadata": {
    "deletable": false,
    "editable": false,
    "nbgrader": {
     "grade": false,
     "locked": true,
     "solution": false
    }
   },
   "source": [
    "Notice that we have added a `print()` statement so that the distance and predecessor dictionary can be viewed.  The first two lines can be understood as first consider the edge `ab` of distance 3.  Compare this to `ad`, ad is less, so update our information about the closest adjacent vertex."
   ]
  },
  {
   "cell_type": "markdown",
   "metadata": {
    "deletable": false,
    "editable": false,
    "nbgrader": {
     "grade": false,
     "locked": true,
     "solution": false
    }
   },
   "source": [
    "<center>\n",
    "    <img src = 'resource/asnlib/publicdata/relax.png'/>\n",
    "    </center>\n",
    "\n",
    "Below, we redefine our `relax_dijkstra` function so that we can use without the print statement."
   ]
  },
  {
   "cell_type": "code",
   "execution_count": null,
   "metadata": {
    "collapsed": true,
    "deletable": false,
    "editable": false,
    "nbgrader": {
     "grade": false,
     "locked": true,
     "solution": false
    }
   },
   "outputs": [],
   "source": [
    "def relax_dijkstra(G, start, neighbor, D, P):\n",
    "    '''\n",
    "    This function updates the distance & predecessor dictionaries\n",
    "    D & P by comparing their putative distances to the start vertex.\n",
    "    ------\n",
    "    G: Graph as dict of dicts\n",
    "    start: start vertex\n",
    "    neighbor: neighbor vertex\n",
    "    D: dict of dicts keeping track of distances\n",
    "    P: predecessor dictionary to track shortest path trees\n",
    "    '''\n",
    "    # Convenient shorthand for infinity\n",
    "    inf = float('inf')\n",
    "    # Shortcut estimate\n",
    "    d = D.get(start, inf) + G[start][neighbor]\n",
    "    # Compare shortcut to existing distance\n",
    "    if d < D.get(neighbor, inf):\n",
    "        # Update D and P accordingly\n",
    "        D[neighbor], P[neighbor] = d, start\n",
    "        return True"
   ]
  },
  {
   "cell_type": "markdown",
   "metadata": {
    "deletable": false,
    "editable": false,
    "nbgrader": {
     "grade": false,
     "locked": true,
     "solution": false
    }
   },
   "source": [
    "### Working with a Priority Queue (Heap)\n",
    "\n",
    "The last piece required to implement Dijkstra's algorithm is a *heap* or *priority queue* to maintain the vertices visited. This data structure permits easy retrieval of the vertex with the lowest distance from the `start` vertex. In Python, the queue is maintained as a list of tuples of the form `(distance, vertex)`. The [Python built-in module `heapq`](https://docs.python.org/3/library/heapq.html) contains functions like `heappush` & `heappop` to add items to and remove items from a priority queue cleanly. Notably, when invoking `heappop`, the item with the lowest pirority (or distance in this case) will be removed before all others. When invoking `heappush`, items are added to the queue while maintaining a structure to enable easy retrieval of the smallest item.\n",
    "\n",
    "Here is an illustrative example from the [`heapq` module documentation](https://docs.python.org/3/library/heapq.html#basic-examples)"
   ]
  },
  {
   "cell_type": "code",
   "execution_count": null,
   "metadata": {
    "collapsed": true
   },
   "outputs": [],
   "source": [
    "from heapq import heappush, heappop"
   ]
  },
  {
   "cell_type": "code",
   "execution_count": null,
   "metadata": {
    "collapsed": true
   },
   "outputs": [],
   "source": [
    "h = []\n",
    "heappush(h, (5, 'write code'))\n",
    "heappush(h, (7, 'release product'))\n",
    "heappush(h, (1, 'write spec'))\n",
    "heappush(h, (3, 'create tests'))\n",
    "heappop(h)"
   ]
  },
  {
   "cell_type": "markdown",
   "metadata": {
    "deletable": false,
    "editable": false,
    "nbgrader": {
     "grade": false,
     "locked": true,
     "solution": false
    }
   },
   "source": [
    "<a id=\"q-using-heap\"></a>\n",
    "[Return to top](#questions)"
   ]
  },
  {
   "cell_type": "markdown",
   "metadata": {
    "deletable": false,
    "editable": false,
    "nbgrader": {
     "grade": false,
     "locked": true,
     "solution": false
    }
   },
   "source": [
    "---\n",
    "### Question 4: Using `heappush` & `heappop`\n",
    "\n",
    "Complete the function `visited_or_not` (as shown below) using `heappop` (as illustrated above).\n",
    "+ The inputs are the priority queue `Q` of vertices to visit with tentative distances to the start and the set `S` of vertices visited.\n",
    "+ There are no outputs (it returns `None`) but it *does* modify both inputs in-place.\n",
    "+ Your task is to complete the interior of the `while` loop.\n",
    "```python\n",
    "def visited_or_not(Q, S):\n",
    "    '''\n",
    "    Builds up set S of visited vertices using priority queue Q.\n",
    "    INPUT:\n",
    "      Q: Priority queue (list) of tuples of form (distance, vertex)\n",
    "      S: Set for visited vertices\n",
    "    OUTPUT:\n",
    "      None: WARNING, this modifies Q & S in-place!\n",
    "    '''    \n",
    "    while Q:\n",
    "        # pop a (distance, vertex) tuple from priority queue Q\n",
    "        # if the vertex is not in S, add it to S\n",
    "    return None\n",
    "```"
   ]
  },
  {
   "cell_type": "code",
   "execution_count": null,
   "metadata": {
    "collapsed": true,
    "nbgrader": {
     "grade": false,
     "grade_id": "",
     "locked": false,
     "points": "10",
     "solution": false
    }
   },
   "outputs": [],
   "source": [
    "### GRADED\n",
    "### QUESTION 4\n",
    "### Complete the function visited_or_not as described above\n",
    "def visited_or_not(Q, S):\n",
    "    '''\n",
    "    Builds up set S of visited vertices using priority queue Q.\n",
    "    INPUT:\n",
    "      Q: Priority queue (list) of tuples of form (distance, vertex)\n",
    "      S: Set for visited vertices\n",
    "    OUTPUT:\n",
    "      None: WARNING, this modifies Q & S in-place!\n",
    "    ''' \n",
    "    while Q:\n",
    "        distance, vertex = heappop(Q)\n",
    "        S.add(vertex)\n",
    "    return None\n",
    "###\n",
    "### YOUR CODE HERE\n",
    "###\n"
   ]
  },
  {
   "cell_type": "code",
   "execution_count": null,
   "metadata": {
    "collapsed": true,
    "deletable": false,
    "editable": false,
    "nbgrader": {
     "grade": true,
     "grade_id": "Question 04",
     "locked": true,
     "points": "10",
     "solution": false
    }
   },
   "outputs": [],
   "source": [
    "###\n",
    "### AUTOGRADER TEST - DO NOT REMOVE\n",
    "###\n"
   ]
  },
  {
   "cell_type": "markdown",
   "metadata": {
    "deletable": false,
    "editable": false,
    "nbgrader": {
     "grade": false,
     "locked": true,
     "solution": false
    }
   },
   "source": [
    "The purpose of the preceding was to gain familiarity with the mechanics of using the function `heappop` and working with a priority queue."
   ]
  },
  {
   "cell_type": "markdown",
   "metadata": {
    "deletable": false,
    "editable": false,
    "nbgrader": {
     "grade": false,
     "locked": true,
     "solution": false
    }
   },
   "source": [
    "<a id=\"q-implementing-dijkstra\"></a>\n",
    "[Return to top](#questions)"
   ]
  },
  {
   "cell_type": "markdown",
   "metadata": {
    "deletable": false,
    "editable": false,
    "nbgrader": {
     "grade": false,
     "locked": true,
     "solution": false
    }
   },
   "source": [
    "---\n",
    "### Question 5: Implementing Dijkstra's Algorithm\n",
    "\n",
    "You can finally implement Dijkstra's algorithm.\n",
    "+ The basic implementation here has most of the pieces provided.\n",
    "+ The one missing line (within the `for` loop) requires a `heappush`\n",
    "  to push the updated distance information onto the heap.\n",
    " we want to update our queue to reflect the results of the relaxation.  Here, we can use the `heappush` function to attach the new information resulting from our relaxation into the the queue.\n",
    "\n",
    "```python\n",
    "def dijkstra(graph, start):\n",
    "  '''\n",
    "  This function implements Dijkstra's algorithm on a graph,\n",
    "  determining shortest distances from start to all vertices\n",
    "  in the graph.\n",
    "  INPUT:\n",
    "     graph: dict of dicts to represent weighted graph\n",
    "     start: starting vertex\n",
    "  OUTPUT:\n",
    "     D : dict of distances of each vertex to start\n",
    "     P : dict of predecessors (for paths back to start) \n",
    "  Example:\n",
    "      G = {'a': {'b': 3, 'd': 1},\n",
    "           'b': {'a': 3, 'c': 2},\n",
    "           'c': {'b': 2, 'f': 5},\n",
    "           'd': {'a': 1, 'e': 8, 'f': 12},\n",
    "           'e': {'d': 8, 'f': 4},\n",
    "           'f': {'c': 5, 'd': 12, 'e': 4}}\n",
    "      dijkstra(G, 'a') ====> (D, P) where\n",
    "        ({'a': 0, 'b': 3, 'c': 5, 'd': 1, 'e': 9, 'f': 10},\n",
    "         {'b': 'a', 'c': 'b', 'd': 'a', 'e': 'd', 'f': 'c'})\n",
    "  '''\n",
    "  D, P, Q, S = setup_dijkstra(start)\n",
    "  while Q:                              # Unprocessed nodes?\n",
    "    _, u = heappop(Q)                   # Get closest node\n",
    "    if u in S: continue                 # If visited skip\n",
    "    S.add(u)                            # Visit otherwise\n",
    "    for v in graph[u]:                  # Examine neighbors\n",
    "      relax_dijkstra(graph, u, v, D, P) # Relax edges\n",
    "      ### INSERT MISSING LINE HERE\n",
    "  return D,  P\n",
    "```\n"
   ]
  },
  {
   "cell_type": "code",
   "execution_count": null,
   "metadata": {
    "collapsed": true
   },
   "outputs": [],
   "source": [
    "### GRADED\n",
    "### QUESTION 5\n",
    "### Complete the function dijkstra below.\n",
    "### Use the template code above to fill in the body.\n",
    "### your goal is to determine when and what you \n",
    "### want to add to the heap!\n",
    "def dijkstra(graph, start):\n",
    "    '''\n",
    "    This function implements Dijkstra's algorithm on a graph,\n",
    "    determining shortest distances from start to all vertices\n",
    "    in the graph.\n",
    "    INPUT:\n",
    "    graph: dict of dicts to represent weighted graph\n",
    "    start: starting vertex\n",
    "    OUTPUT:\n",
    "    D : dict of distances of each vertex to start\n",
    "    P : dict of predecessors (for paths back to start) \n",
    "    Example:\n",
    "    G = {'a': {'b': 3, 'd': 1},\n",
    "         'b': {'a': 3, 'c': 2},\n",
    "         'c': {'b': 2, 'f': 5},\n",
    "         'd': {'a': 1, 'e': 8, 'f': 12},\n",
    "         'e': {'d': 8, 'f': 4},\n",
    "         'f': {'c': 5, 'd': 12, 'e': 4}}\n",
    "    dijkstra(G, 'a') ====> (D, P) where\n",
    "      ({'a': 0, 'b': 3, 'c': 5, 'd': 1, 'e': 9, 'f': 10},\n",
    "       {'b': 'a', 'c': 'b', 'd': 'a', 'e': 'd', 'f': 'c'})\n",
    "    '''\n",
    "    D, P, Q, S = setup_dijkstra(start)\n",
    "    while Q:                              # Unprocessed nodes?\n",
    "        _, u = heappop(Q)                   # Get closest node\n",
    "        if u in S: continue                 # If visited skip\n",
    "        S.add(u)                            # Visit otherwise\n",
    "        for v in graph[u]:                  # Examine neighbors\n",
    "            relax_dijkstra(graph, u, v, D, P) # Relax edges\n",
    "            heappush(Q, (D[v],v))\n",
    "    return D,  P\n",
    "###\n",
    "### YOUR CODE HERE\n",
    "###\n"
   ]
  },
  {
   "cell_type": "code",
   "execution_count": null,
   "metadata": {
    "collapsed": true,
    "deletable": false,
    "editable": false,
    "nbgrader": {
     "grade": true,
     "grade_id": "Question 05",
     "locked": true,
     "points": "10",
     "solution": false
    }
   },
   "outputs": [],
   "source": [
    "###\n",
    "### AUTOGRADER TEST - DO NOT REMOVE\n",
    "###\n"
   ]
  },
  {
   "cell_type": "markdown",
   "metadata": {
    "deletable": false,
    "editable": false,
    "nbgrader": {
     "grade": false,
     "locked": true,
     "solution": false
    }
   },
   "source": [
    "---\n",
    "## Heuristic search with A*\n",
    "\n",
    "The A* algorithm is a slight variant of Dijkstra's algorithm.  We introduce a *heuristic function* $h$ that helps in choosing the node progression and eliminates some of the work that Dijkstra's algorithm requires.\n",
    "\n",
    "The animated gif below demonstrates the improvement on Dijkstra when we have a heuristic function in place.  In essence, this helps us to keep our focus on the goal state of the traversal and can trim the amount of routes considered.\n",
    "\n",
    "<center>\n",
    "    <img src = 'https://upload.wikimedia.org/wikipedia/commons/5/5d/Astar_progress_animation.gif'/>\n",
    "</center>\n",
    "\n",
    "Below is an implementation of A* with a general heuristic function `h`."
   ]
  },
  {
   "cell_type": "code",
   "execution_count": null,
   "metadata": {
    "collapsed": true,
    "deletable": false,
    "editable": false,
    "nbgrader": {
     "grade": false,
     "locked": true,
     "solution": false
    }
   },
   "outputs": [],
   "source": [
    "def a_star(G, s, t, h):\n",
    "    '''\n",
    "    G: graph\n",
    "    s: start vertex\n",
    "    t: terminal vertex\n",
    "    h: heuristic function\n",
    "    '''\n",
    "    inf = float('inf')\n",
    "    P, Q = {}, [(h(s), None, s)]\n",
    "    while Q:\n",
    "        d, p, u = heappop(Q)\n",
    "        if u in P: continue\n",
    "        P[u] = p\n",
    "        if u == t: return d - h(t), P\n",
    "        for v in G[u]:\n",
    "            w = G[u][v] - h(u) + h(v) #incorporating the heuristic\n",
    "            heappush(Q, (d + w, u, v))\n",
    "    return inf, None"
   ]
  },
  {
   "cell_type": "markdown",
   "metadata": {},
   "source": [
    "Examples of heuristic function are *Euclidean distance* or *Manhattan distance* (defined later).  For instance, in our Romania map example, from the lectures, we could use the straight-line geographic distance between points as the heuristic function. Most importantly, a heuristic function of the form $h(t) = 0$ yields Djisktra's algorithm.\n",
    "\n",
    "We will move to implementing these algorithms using the `network_x` library.  For us to implement the `a_star` above would involve additional information about the orientation of points in our simple graph or the introduction of a coordinate system to allow easy use of the metric.\n",
    "\n"
   ]
  },
  {
   "cell_type": "markdown",
   "metadata": {
    "deletable": false,
    "editable": false,
    "nbgrader": {
     "grade": false,
     "locked": true,
     "solution": false
    }
   },
   "source": [
    "Now, we will implement `Dijkstra` on a weighted graph representing the Romania map from class."
   ]
  },
  {
   "cell_type": "markdown",
   "metadata": {
    "deletable": false,
    "editable": false,
    "nbgrader": {
     "grade": false,
     "locked": true,
     "solution": false
    }
   },
   "source": [
    "<img src = 'resource/asnlib/publicdata/romania_map.png'/>"
   ]
  },
  {
   "cell_type": "code",
   "execution_count": null,
   "metadata": {
    "collapsed": true,
    "deletable": false,
    "editable": false,
    "nbgrader": {
     "grade": false,
     "locked": true,
     "solution": false
    }
   },
   "outputs": [],
   "source": [
    "import networkx as nx\n",
    "\n",
    "romania_map = {'Arad': {'Sibiu': {'weight':140}, 'Timisoara': {'weight':118}, 'Zerind': {'weight':75}},\n",
    " 'Bucharest': {'Fagaras': {'weight':211}, 'Giurgiu': {'weight':90}, 'Pitesti': {'weight':101}, 'Urziceni': {'weight':85}},\n",
    " 'Craiova': {'Drobeta': {'weight':120}, 'Pitesti': {'weight':138}, 'Rimnicu': {'weight':146}},\n",
    " 'Drobeta': {'Mehadia': {'weight':75}},\n",
    " 'Eforie': {'Hirsova': {'weight':86}},\n",
    " 'Fagaras': {'Sibiu': {'weight':99}},\n",
    " 'Hirsova': {'Urziceni': {'weight':98}},\n",
    " 'Iasi': {'Neamt': {'weight':87}, 'Vaslui': {'weight':92}},\n",
    " 'Lugoj': {'Mehadia': {'weight':70}, 'Timisoara': {'weight':111}},\n",
    " 'Oradea': {'Sibiu': {'weight':151}, 'Zerind': {'weight':71}},\n",
    " 'Pitesti': {'Rimnicu': {'weight':97}},\n",
    " 'Rimnicu': {'Sibiu': {'weight':80}},\n",
    " 'Urziceni': {'Vaslui': {'weight':142}}}\n",
    "\n",
    "romania_graph = nx.from_dict_of_dicts(romania_map)"
   ]
  },
  {
   "cell_type": "markdown",
   "metadata": {
    "deletable": false,
    "editable": false,
    "nbgrader": {
     "grade": false,
     "locked": true,
     "solution": false
    }
   },
   "source": [
    "<a id=\"q-applying-dijkstra\"></a>\n",
    "[Return to top](#questions)"
   ]
  },
  {
   "cell_type": "markdown",
   "metadata": {
    "deletable": false,
    "editable": false,
    "nbgrader": {
     "grade": false,
     "locked": true,
     "solution": false
    }
   },
   "source": [
    "---\n",
    "### Question 6: Applying Dijkstra's Algorithm in Romania\n",
    "\n",
    "Your task here is to apply Dijkstra's algorithm as implemented in `networkx` to the graph `romania_graph`.\n",
    "+ Determine the shortest path from `Arad` to `Bucharest` using `nx.dijkstra_path`.\n",
    "+ Assign the resulting path to `ans_6`."
   ]
  },
  {
   "cell_type": "code",
   "execution_count": null,
   "metadata": {
    "collapsed": true
   },
   "outputs": [],
   "source": [
    "### GRADED\n",
    "### QUESTION 6\n",
    "### Use the networkx dijkstra_path()\n",
    "### method to determine the shortest path from \n",
    "### Arad to Bucharest.  Save your results to ans_6 below\n",
    "### This should be a list of nodes.\n",
    "ans_6 = nx.dijkstra_path(G= romania_graph, source= 'Arad', target = 'Bucharest')\n",
    "### Verification:\n",
    "print('Shortest path from Arad to Bucharest:\\n{}'.format(ans_6))"
   ]
  },
  {
   "cell_type": "code",
   "execution_count": null,
   "metadata": {
    "collapsed": true,
    "deletable": false,
    "editable": false,
    "nbgrader": {
     "grade": true,
     "grade_id": "Question 06",
     "locked": true,
     "points": "10",
     "solution": false
    }
   },
   "outputs": [],
   "source": [
    "###\n",
    "### AUTOGRADER TEST - DO NOT REMOVE\n",
    "###\n"
   ]
  },
  {
   "cell_type": "markdown",
   "metadata": {
    "deletable": false,
    "editable": false,
    "nbgrader": {
     "grade": false,
     "locked": true,
     "solution": false
    }
   },
   "source": [
    "<a id=\"q-finding\"></a>\n",
    "[Return to top](#questions)"
   ]
  },
  {
   "cell_type": "markdown",
   "metadata": {
    "deletable": false,
    "editable": false,
    "nbgrader": {
     "grade": false,
     "locked": true,
     "solution": false
    }
   },
   "source": [
    "---\n",
    "### Question 7: Applying the A* Algorithm in Romania\n",
    "\n",
    "Similarly, we can use the `networkx` implementation of A* out of the box.\n",
    "+ Apply `nx.astar.astar_path` to find the shortest path from `Arad` to `Bucharest` in `romania_graph`. Assign the result to `ans_7_path`.\n",
    "+ You won't create a heuristic function `h` here, so the behavior should be identical to Dijkstra's algorithm.\n",
    "+ Apply `nx.astar.astar_path_length` to find the *length* of the shortest path from `Arad` to `Bucharest` in `romania_graph`. Assign the result to `ans_7_length`."
   ]
  },
  {
   "cell_type": "code",
   "execution_count": null,
   "metadata": {
    "collapsed": true
   },
   "outputs": [],
   "source": [
    "### GRADED\n",
    "### QUESTION 7\n",
    "### Use the networkx implementation of A* to get the shortest\n",
    "###    path from Arad to Bucharest and its length.\n",
    "### Save your path as a list to ans_7_path & the length of the\n",
    "###   shortest path to ans_7_length.\n",
    "### YOUR ANSWER HERE\n",
    "ans_7_path = nx.astar.astar_path(G= romania_graph, source='Arad', target='Bucharest')\n",
    "ans_7_length = nx.astar.astar_path_length(G= romania_graph, source='Arad', target='Bucharest')\n"
   ]
  },
  {
   "cell_type": "code",
   "execution_count": null,
   "metadata": {
    "collapsed": true
   },
   "outputs": [],
   "source": [
    "ans_7_length"
   ]
  },
  {
   "cell_type": "code",
   "execution_count": null,
   "metadata": {
    "collapsed": true,
    "deletable": false,
    "editable": false,
    "nbgrader": {
     "grade": true,
     "grade_id": "Question 07",
     "locked": true,
     "points": "8",
     "solution": false
    }
   },
   "outputs": [],
   "source": [
    "###\n",
    "### AUTOGRADER TEST - DO NOT REMOVE\n",
    "###\n"
   ]
  },
  {
   "cell_type": "markdown",
   "metadata": {
    "deletable": false,
    "editable": false,
    "nbgrader": {
     "grade": false,
     "locked": true,
     "solution": false
    }
   },
   "source": [
    "As mentioned, our Romania example could incorporate something like latitude and longitude coordinates into its representation and we could define a heuristic based on Pythagorean distances between these values.  Below, we demonstrate this with a simple example from the `networkx` documentation using a `grid_graph`, which positions nodes according to `(x,y)` tuples.  As such, we can define a distance function based on euclidean distance as shown below."
   ]
  },
  {
   "cell_type": "code",
   "execution_count": null,
   "metadata": {
    "collapsed": true,
    "deletable": false,
    "editable": false,
    "nbgrader": {
     "grade": false,
     "locked": true,
     "solution": false
    }
   },
   "outputs": [],
   "source": [
    "# Generate simple grid graph\n",
    "G = nx.grid_graph(dim=[3,4])"
   ]
  },
  {
   "cell_type": "code",
   "execution_count": null,
   "metadata": {
    "collapsed": true,
    "nbgrader": {
     "grade": false,
     "locked": false,
     "solution": false
    }
   },
   "outputs": [],
   "source": [
    "nx.draw(G, with_labels=True, node_color='orange', node_size=300, alpha = 0.8)"
   ]
  },
  {
   "cell_type": "code",
   "execution_count": null,
   "metadata": {
    "collapsed": true
   },
   "outputs": [],
   "source": [
    "def dist(a, b):\n",
    "    (x1, y1) = a # Unpacks coordinates from tuple\n",
    "    (x2, y2) = b # Unpacks coordinates from tuple\n",
    "    return ((x1 - x2) ** 2 + (y1 - y2) ** 2) ** 0.5\n",
    "print(nx.astar_path(G,(0,0),(3,2), dist))"
   ]
  },
  {
   "cell_type": "code",
   "execution_count": null,
   "metadata": {
    "collapsed": true
   },
   "outputs": [],
   "source": [
    "dist((0,0),(3,2))"
   ]
  },
  {
   "cell_type": "markdown",
   "metadata": {
    "deletable": false,
    "editable": false,
    "nbgrader": {
     "grade": false,
     "locked": true,
     "solution": false
    }
   },
   "source": [
    "**Euclidean vs. Manhattan Distance**\n",
    "\n",
    "\n",
    "<center>\n",
    "    <img src = 'https://upload.wikimedia.org/wikipedia/commons/thumb/0/08/Manhattan_distance.svg/400px-Manhattan_distance.svg.png'/ width = 25% height = 50%>\n",
    "         </center>"
   ]
  },
  {
   "cell_type": "markdown",
   "metadata": {
    "deletable": false,
    "editable": false,
    "nbgrader": {
     "grade": false,
     "locked": true,
     "solution": false
    }
   },
   "source": [
    "<a id=\"q-using\"></a>\n",
    "[Return to top](#questions)"
   ]
  },
  {
   "cell_type": "markdown",
   "metadata": {
    "deletable": false,
    "editable": false,
    "nbgrader": {
     "grade": false,
     "locked": true,
     "solution": false
    }
   },
   "source": [
    "---\n",
    "### Question 8: Using Distinct Heuristic Functions\n",
    "\n",
    "Your task here is to complete the function `manhattan_dist` below to be compatible with `nx.astar_path`.\n",
    "+ You can use the function `dist` above as a template.\n",
    "+ Assume that the inputs will be two tuples of length 2 (as in `dist`).\n",
    "+ In two dimensions, the [*Manhattan distance* or *taxicab distance*](https://en.wikipedia.org/wiki/Taxicab_geometry) can be defined as\n",
    "$$ \\mathtt{manhattan\\_dist}(a,b) = |a_1-b_1| + |a_2-b_2|$$"
   ]
  },
  {
   "cell_type": "code",
   "execution_count": null,
   "metadata": {
    "collapsed": true
   },
   "outputs": [],
   "source": [
    "from scipy.spatial import distance\n",
    "### GRADED\n",
    "### QUESTION 8\n",
    "### Complete the function manhattan_dist below that \n",
    "### takes in two nodes a, b and returns\n",
    "### the manhattan or taxi-cab distance between them.\n",
    "\n",
    "def manhattan_dist(a, b):\n",
    "        \n",
    "    '''\n",
    "    This function takes in two tuples of the form (x,y)\n",
    "    and computes the manhattan distance between the two.\n",
    "    '''\n",
    "    return distance.cityblock(a,b)\n",
    "    #(x1, y1) = a # Unpacks coordinates from tuple\n",
    "    #(x2, y2) = b # Unpacks coordinates from tuple\n",
    "    #return abs((x1 - x2) + (y1 - y2))\n"
   ]
  },
  {
   "cell_type": "code",
   "execution_count": null,
   "metadata": {
    "collapsed": true
   },
   "outputs": [],
   "source": [
    "manhattan_dist((0,0), (3,2))"
   ]
  },
  {
   "cell_type": "code",
   "execution_count": null,
   "metadata": {
    "collapsed": true
   },
   "outputs": [],
   "source": [
    "a = (0,0)\n",
    "b = (3,2)\n",
    "(x1, y1) = a # Unpacks coordinates from tuple\n",
    "(x2, y2) = b # Unpacks coordinates from tuple\n",
    "c = abs((x1 - x2) + (y1 - y2))\n",
    "\n",
    "c"
   ]
  },
  {
   "cell_type": "code",
   "execution_count": null,
   "metadata": {
    "collapsed": true
   },
   "outputs": [],
   "source": [
    "print (nx.astar_path(G,(0,0),(3, 2),manhattan_dist))"
   ]
  },
  {
   "cell_type": "code",
   "execution_count": null,
   "metadata": {
    "collapsed": true,
    "deletable": false,
    "editable": false,
    "nbgrader": {
     "grade": true,
     "grade_id": "Question 08",
     "locked": true,
     "points": "6",
     "solution": false
    }
   },
   "outputs": [],
   "source": [
    "###\n",
    "### AUTOGRADER TEST - DO NOT REMOVE\n",
    "###\n"
   ]
  },
  {
   "cell_type": "markdown",
   "metadata": {
    "deletable": false,
    "editable": false,
    "nbgrader": {
     "grade": false,
     "locked": true,
     "solution": false
    }
   },
   "source": [
    "As a next example, we have a road network from Sioux Falls, Iowa. You can find more data on transportation networks here: \n",
    "https://github.com/bstabler/TransportationNetworks. \n",
    "The code below was adapted from the networkx tutorial here: \n",
    "http://avinashu.com/tutorial/pythontutorialnew/NetworkXBasics.html.  \n",
    "This is simply to demonstrate a path search algorithm using real data to determine a shortest path."
   ]
  },
  {
   "cell_type": "code",
   "execution_count": null,
   "metadata": {
    "collapsed": true,
    "deletable": false,
    "editable": false,
    "nbgrader": {
     "grade": false,
     "locked": true,
     "solution": false
    }
   },
   "outputs": [],
   "source": [
    "# READ IN DATA ON NODES AND EDGES\n",
    "G3 = nx.DiGraph() # a *directed* graph\n",
    "with open(\"resource/asnlib/publicdata/SiouxFalls_flow.txt\", \"r\") as f:\n",
    "    line = f.readline()\n",
    "    line = f.readline()\n",
    "    while len(line):\n",
    "        l = line.split()\n",
    "        fromnode = int(l[0])\n",
    "        to = int(l[1])\n",
    "        volume = float(l[2])\n",
    "        cost = int(float(l[3]))\n",
    "        G3.add_edge(fromnode, to, weight = cost)\n",
    "        line = f.readline()"
   ]
  },
  {
   "cell_type": "code",
   "execution_count": null,
   "metadata": {
    "collapsed": true,
    "deletable": false,
    "editable": false,
    "nbgrader": {
     "grade": false,
     "locked": true,
     "solution": false
    }
   },
   "outputs": [],
   "source": [
    "with open(\"resource/asnlib/publicdata/SiouxFalls_node.txt\", \"r\") as f:\n",
    "    line = f.readline()\n",
    "    line = f.readline()\n",
    "    while len(line):\n",
    "        line = line.strip(';')\n",
    "        l = line.split()\n",
    "        node = int(l[0])\n",
    "        pos1 = float(l[1])/10000\n",
    "        pos2 = float(l[2])/10000\n",
    "        G3.add_node(node, pos=(pos1,pos2))\n",
    "        line = f.readline()"
   ]
  },
  {
   "cell_type": "code",
   "execution_count": null,
   "metadata": {
    "collapsed": true,
    "deletable": false,
    "editable": false,
    "nbgrader": {
     "grade": false,
     "locked": true,
     "solution": false
    },
    "scrolled": true
   },
   "outputs": [],
   "source": [
    "# CREATE PLOT OF NETWORK\n",
    "plt.figure(figsize=(8,12))\n",
    "# The positions of each node are stored in a dictionary\n",
    "node_pos=nx.get_node_attributes(G3,'pos')\n",
    "# The edge weights of each arcs are stored in a dictionary\n",
    "arc_weight=nx.get_edge_attributes(G3,'weight')\n",
    "# Determine the shortest path\n",
    "sp = nx.dijkstra_path(G3,source = 1, target = 20)\n",
    "# Create a list of arcs in the shortest path using the zip command and store it in red edges\n",
    "red_edges = list(zip(sp,sp[1:]))\n",
    "# If the node is in the shortest path, set it to red, else set it to white color\n",
    "node_col = ['white' if not node in sp else 'red' for node in G3.nodes()]\n",
    "# If the edge is in the shortest path set it to red, else set it to white color\n",
    "edge_col = ['black' if not edge in red_edges else 'red' for edge in G3.edges()]\n",
    "# Draw the nodes\n",
    "nx.draw_networkx(G3, node_pos,node_color= node_col, node_size=450)\n",
    "# Draw the node labels\n",
    "nx.draw_networkx_labels(G3, node_pos,node_color= node_col)\n",
    "# Draw the edges\n",
    "nx.draw_networkx_edges(G3, node_pos,edge_color= edge_col)\n",
    "# Draw the edge labels\n",
    "nx.draw_networkx_edge_labels(G3, node_pos,edge_color= edge_col, edge_labels=arc_weight)\n",
    "# Remove the axis\n",
    "plt.axis('off');"
   ]
  },
  {
   "cell_type": "markdown",
   "metadata": {
    "deletable": false,
    "editable": false,
    "nbgrader": {
     "grade": false,
     "locked": true,
     "solution": false
    }
   },
   "source": [
    "<a id=\"q-searching\"></a>\n",
    "[Return to top](#questions)"
   ]
  },
  {
   "cell_type": "markdown",
   "metadata": {
    "deletable": false,
    "editable": false,
    "nbgrader": {
     "grade": false,
     "locked": true,
     "solution": false
    }
   },
   "source": [
    "---\n",
    "### Question 9: Searching for Paths in a Road Network\n",
    "\n",
    "Use the `networkx` object `G3` just created to compute the following. \n",
    "+ Apply `nx.dijkstra_path` to determine a shortest path from node `13` to node `6`. Assign the result to `ans_9_path`.\n",
    "+ Apply `nx.dijkstra_path_length` to determine the *length* of a shortest path from node `13` to node `6`. Assign the result to `ans_9_length`."
   ]
  },
  {
   "cell_type": "code",
   "execution_count": null,
   "metadata": {
    "collapsed": true
   },
   "outputs": [],
   "source": [
    "nx.dijkstra_path_length(G= G3, source= 13, target= 6)"
   ]
  },
  {
   "cell_type": "code",
   "execution_count": null,
   "metadata": {
    "collapsed": true,
    "nbgrader": {
     "grade": false,
     "locked": false,
     "solution": false
    }
   },
   "outputs": [],
   "source": [
    "### GRADED\n",
    "### QUESTION 9\n",
    "### Save the shortest path from node 13 to node 6 as ans_9_path.\n",
    "### Save the length of the path to ans_9_length.\n",
    "### YOUR SOLUTION HERE:\n",
    "ans_9_path = nx.dijkstra_path(G= G3, source= 13, target= 6)\n",
    "ans_9_length = nx.dijkstra_path_length(G= G3, source= 13, target= 6)\n"
   ]
  },
  {
   "cell_type": "code",
   "execution_count": null,
   "metadata": {
    "collapsed": true,
    "deletable": false,
    "editable": false,
    "nbgrader": {
     "grade": true,
     "grade_id": "Question 09",
     "locked": true,
     "points": "10",
     "solution": false
    }
   },
   "outputs": [],
   "source": [
    "###\n",
    "### AUTOGRADER TEST - DO NOT REMOVE\n",
    "###\n"
   ]
  },
  {
   "cell_type": "markdown",
   "metadata": {
    "deletable": false,
    "editable": false,
    "nbgrader": {
     "grade": false,
     "locked": true,
     "solution": false
    }
   },
   "source": [
    "<a id=\"q-constructing-dist\"></a>\n",
    "[Return to top](#questions)"
   ]
  },
  {
   "cell_type": "markdown",
   "metadata": {
    "deletable": false,
    "editable": false,
    "nbgrader": {
     "grade": false,
     "locked": true,
     "solution": false
    }
   },
   "source": [
    "---\n",
    "### Question 10: Constructing a Distance Heuristic for A*\n",
    "\n",
    "Your task here is to apply A* to the graph `G3` describing the Sioux Falls transportation nextwork data. You can use the `networkx` implementation, but you'll also provide a heuristic function `sioux_dist`.\n",
    "+ The function `sioux_dist` will accept two vertex labels from the `Graph` object `G3` as input.\n",
    "+ Individual vertices can be indexed from `G3.node` with an appropriate label; for each vertex `a`, you can access a dict `G3.node[a]` with a single key `pos` whose value is a 2-tuple with the Cartesian coordinates of the node.\n",
    "+ The distance computed will be the usual Euclidean distance, i.e.,\n",
    "  $$ \\sqrt{\\left(a_1-b_1\\right)^2 + \\left(a_2-b_2\\right)^2} $$\n",
    "  being the distance between two points $a=(a_1,a_2)$ and $b=(b_1,b_2)$."
   ]
  },
  {
   "cell_type": "code",
   "execution_count": null,
   "metadata": {
    "collapsed": true
   },
   "outputs": [],
   "source": [
    "### GRADED\n",
    "### QUESTION 10\n",
    "### Complete the function sioux_dist to determine the Euclidean distance\n",
    "###    between two nodes in the graph G3.\n",
    "def sioux_dist(a, b):\n",
    "    '''\n",
    "    Compute the euclidean distance between nodes a & b in graph G3\n",
    "    '''\n",
    "    a_dict = G3.node[a]\n",
    "    b_dict = G3.node[b]\n",
    "    a = a_dict.get('pos')\n",
    "    b = b_dict.get('pos')\n",
    "    return dist(a,b)\n",
    "###\n",
    "### YOUR CODE HERE\n",
    "###\n",
    "print('Using sioux_dist, A* determines the path\\n{}\\nfrom node 3 to node 19.'\n",
    "       .format(nx.astar_path(G3, 3, 19, sioux_dist)))"
   ]
  },
  {
   "cell_type": "code",
   "execution_count": null,
   "metadata": {
    "collapsed": true,
    "deletable": false,
    "editable": false,
    "nbgrader": {
     "grade": true,
     "grade_id": "Question 10",
     "locked": true,
     "points": "10",
     "solution": false
    }
   },
   "outputs": [],
   "source": [
    "###\n",
    "### AUTOGRADER TEST - DO NOT REMOVE\n",
    "###\n"
   ]
  },
  {
   "cell_type": "markdown",
   "metadata": {
    "deletable": false,
    "editable": false,
    "nbgrader": {
     "grade": false,
     "locked": true,
     "solution": false
    }
   },
   "source": [
    "# Adversarial Search\n",
    "<figure>\n",
    "  <img src=\"resource/asnlib/publicdata/johnniac.jpg\" alt=\"The Johnniac\" style=\"width:100%\">\n",
    "    <figcaption><i>The Johnniac of Simon and Lewell</i>.</figcaption>\n",
    "</figure>\n",
    "    \n",
    "---\n",
    "In this section, we will introduce problems motivated by the example of tic-tac-toe in the lecture and *Chapter 5: Artificial Intelligence a Modern Approach*.  Your goal will be to examine some foundational elements of the problems much as those addressed above in our search problems in the context of adversarial search problems.  To begin, we will explore some of the fundamental ideas in **game theory** and its history.  \n",
    "\n",
    "First, is a definition of a *game*. According to Straffin's *Game Theory and Strategy*, a **game** is any scenario in which:\n",
    "\n",
    "<div class=\"alert alert-info\" role=\"alert\">\n",
    "    <li>There are at least two <i>players</i></li>\n",
    "    <li>Each player has a number of possible <i>strategies</i></li>\n",
    "    <li>The strategies chosen by each player determine the <i>outcome</i> of the game.</li>\n",
    "    <li>Associated to each possible outcome of the game is a colletion of numerical <i>payoffs</i>, one to each player.</li>\n",
    "</div>\n",
    "\n",
    "\n",
    "*Straffin, p3*\n",
    "\n",
    "To begin, lets consider a scenario in which there are two players: Row and Column.  The players each have two strategies -- $A$ or $B$. There are different consequences for the four possible pairings of these strategies depending, and we can represent an example of such a game with a *pay-off matrix* as follows:\n",
    "\n",
    "<table class=\"table\">\n",
    "    <caption>Row vs. Column</caption>\n",
    "  <thead>\n",
    "    <tr>\n",
    "      <th scope=\"col\"> </th>\n",
    "      <th scope=\"col\">A</th>\n",
    "      <th scope=\"col\">B</th>\n",
    "    </tr>\n",
    "  </thead>\n",
    "  <tbody>\n",
    "    <tr>\n",
    "      <th scope=\"row\">A</th>\n",
    "      <td>4</td>\n",
    "      <td>-3</td> \n",
    "    </tr>\n",
    "    <tr>\n",
    "      <th scope=\"row\">B</th>\n",
    "      <td>0</td>\n",
    "      <td>3</td>\n",
    "    </tr> \n",
    "  </tbody>\n",
    "</table>\n",
    "\n",
    "\n",
    "This table is from only the Row player perspective, and we will view each outcome for player Row to have the equal and opposite outcome or *pay-off* for player Column.  To begin our exploration, we need first to represent and simulate playing the game a variety of times to verify our intutions."
   ]
  },
  {
   "cell_type": "markdown",
   "metadata": {
    "deletable": false,
    "editable": false,
    "nbgrader": {
     "grade": false,
     "locked": true,
     "solution": false
    }
   },
   "source": [
    "### Representation of Games\n",
    "\n",
    "To start, we will use nested lists to represent games.  A **nested list** is a list of lists in Python.  For example:\n",
    "\n",
    "```python\n",
    "[[1,0],[0,1]]\n",
    "```\n",
    "\n",
    "could be interpreted as a matrix\n",
    "\n",
    "$$\\begin{bmatrix}\n",
    "1 & 0 \\\\\n",
    "0 & 1 \\\\\n",
    "\\end{bmatrix}\n",
    "$$"
   ]
  },
  {
   "cell_type": "markdown",
   "metadata": {
    "deletable": false,
    "editable": false,
    "nbgrader": {
     "grade": false,
     "locked": true,
     "solution": false
    }
   },
   "source": [
    "<a id=\"q-representing-games\"></a>\n",
    "[Return to top](#questions)"
   ]
  },
  {
   "cell_type": "code",
   "execution_count": null,
   "metadata": {
    "collapsed": true,
    "deletable": false,
    "editable": false,
    "nbgrader": {
     "grade": false,
     "locked": true,
     "solution": false
    }
   },
   "outputs": [],
   "source": [
    "---\n",
    "### Question 11: Representing Games\n",
    "\n",
    "Your first task is to represent the following pay-off matrix in Python as a list of lists:\n",
    "\n",
    "| $\\ $ |  A  |  B  |  C  |  D  | \n",
    "| ----- | ----- | ----- | ----- | ----- |\n",
    "| **A**     | 12    | -1   |   1 |    0 |\n",
    "| **B**      |    5 |    1 |   7 |   -20 |\n",
    "| **C**   |    3 |    2 |    4 |    3 | \n",
    "| **D**    |   -16 |   0 |   0 |    16 | \n",
    "\n",
    "+ Each inner list corresponds to a row of the table above.\n",
    "+ Assign your resulting data structure to the identifier `ans_12`."
   ]
  },
  {
   "cell_type": "code",
   "execution_count": null,
   "metadata": {
    "collapsed": true
   },
   "outputs": [],
   "source": [
    "[[12,-1,1,0],[5,1,7,-20],[3,2,4,3],[-16,0,0,16]]"
   ]
  },
  {
   "cell_type": "code",
   "execution_count": null,
   "metadata": {
    "collapsed": true
   },
   "outputs": [],
   "source": [
    "### GRADED\n",
    "### QUESTION 11\n",
    "### Construct a list of lists as specified above.\n",
    "### Save to the variable ans_11.\n",
    "### YOUR ANSWER BELOW:\n",
    "ans_11 = [[12,-1,1,0],[5,1,7,-20],[3,2,4,3],[-16,0,0,16]]\n"
   ]
  },
  {
   "cell_type": "code",
   "execution_count": null,
   "metadata": {
    "collapsed": true
   },
   "outputs": [],
   "source": [
    "import numpy as np\n",
    "import pandas as pd"
   ]
  },
  {
   "cell_type": "code",
   "execution_count": null,
   "metadata": {
    "collapsed": true,
    "scrolled": true
   },
   "outputs": [],
   "source": [
    "ans_11_matrix = np.array(ans_11)"
   ]
  },
  {
   "cell_type": "code",
   "execution_count": null,
   "metadata": {
    "collapsed": true,
    "scrolled": true
   },
   "outputs": [],
   "source": [
    "df = pd.DataFrame(ans_11_matrix)\n",
    "df"
   ]
  },
  {
   "cell_type": "code",
   "execution_count": null,
   "metadata": {
    "collapsed": true
   },
   "outputs": [],
   "source": [
    "K = pd.DataFrame(df.sum(axis= 1))#.sum(axis = 0)\n",
    "K\n",
    "df.sum(axis =1)"
   ]
  },
  {
   "cell_type": "code",
   "execution_count": null,
   "metadata": {
    "collapsed": true
   },
   "outputs": [],
   "source": [
    "df.shape[0]"
   ]
  },
  {
   "cell_type": "code",
   "execution_count": null,
   "metadata": {
    "collapsed": true,
    "deletable": false,
    "editable": false,
    "nbgrader": {
     "grade": true,
     "grade_id": "Question 11",
     "locked": true,
     "points": "5",
     "solution": false
    }
   },
   "outputs": [],
   "source": [
    "###\n",
    "### AUTOGRADER TEST - DO NOT REMOVE\n",
    "###\n"
   ]
  },
  {
   "cell_type": "markdown",
   "metadata": {
    "deletable": false,
    "editable": false,
    "nbgrader": {
     "grade": false,
     "locked": true,
     "solution": false
    }
   },
   "source": [
    "<a id=\"q-favoring\"></a>\n",
    "[Return to top](#questions)"
   ]
  },
  {
   "cell_type": "markdown",
   "metadata": {
    "deletable": false,
    "editable": false,
    "nbgrader": {
     "grade": false,
     "locked": true,
     "solution": false
    }
   },
   "source": [
    "---\n",
    "### Question 12: Identifying the Favored Player\n",
    "\n",
    "You can now examine the pay-offs in the table from Question 11 to determine if the game is fair.\n",
    "+ If the game corresponding to the table is fair, the expectation for each player would be equal.\n",
    "+ Provide your answer as a Python string chosen from\n",
    "   + `row` (if the row player has an advantage)\n",
    "   + `column` (if the column player has an advantage)\n",
    "   + `none` (if neither has an advantage)\n",
    "+ Assign the result to `ans_12`."
   ]
  },
  {
   "cell_type": "code",
   "execution_count": null,
   "metadata": {
    "collapsed": true
   },
   "outputs": [],
   "source": [
    "### GRADED\n",
    "### QUESTION 12\n",
    "### Does the row or column player have an advantage?\n",
    "### Assign the string 'row','column', or 'none' to ans_12.\n",
    "### YOUR ANSWER BELOW:\n",
    "ans_12 = 'row'\n"
   ]
  },
  {
   "cell_type": "code",
   "execution_count": null,
   "metadata": {
    "collapsed": true,
    "deletable": false,
    "editable": false,
    "nbgrader": {
     "grade": true,
     "grade_id": "Question 12",
     "locked": true,
     "points": "3",
     "solution": false
    }
   },
   "outputs": [],
   "source": [
    "###\n",
    "### AUTOGRADER TEST - DO NOT REMOVE\n",
    "###\n"
   ]
  },
  {
   "cell_type": "markdown",
   "metadata": {
    "deletable": false,
    "editable": false,
    "nbgrader": {
     "grade": false,
     "locked": true,
     "solution": false
    }
   },
   "source": [
    "### Sequential Play\n",
    "\n",
    "An alternative structure to a game would be to allow one player to move and subsequently the other player to react and choose to play aware of the result of a first players move.  The image below is from [Wikipedia's page on the Minimax algorithm](https://en.wikipedia.org/wiki/Minimax).\n",
    "\n",
    "![](https://upload.wikimedia.org/wikipedia/commons/thumb/6/6f/Minimax.svg/800px-Minimax.svg.png)"
   ]
  },
  {
   "cell_type": "markdown",
   "metadata": {
    "deletable": false,
    "editable": false,
    "nbgrader": {
     "grade": false,
     "locked": true,
     "solution": false
    }
   },
   "source": [
    "The table below has `max` as the row player and `min` as the column player from the diagram above.  The payoffs are from `max`'s point of view.  Your goal is to fill in the remaining elements of the table representation of the payoff matrix for the game tree represented above.  There are only two possible moves $A$ and $B$, move $A$ is always the left branch and $B$ the right branch.\n",
    "\n",
    "| $~$ | $A$ | $B$ |\n",
    "| ---- | ---- | ---- |\n",
    "| $A$ |   (a)  |   (b)  |\n",
    "| $B$ | (c)    |  (d)   |"
   ]
  },
  {
   "cell_type": "markdown",
   "metadata": {
    "deletable": false,
    "editable": false,
    "nbgrader": {
     "grade": false,
     "locked": true,
     "solution": false
    }
   },
   "source": [
    "### The MiniMax Algorithm\n",
    "\n",
    "Returning to the game tree example above, we want to determine the best strategy for Max or the row player.  The payoffs of $\\infty$ and $-\\infty$ are meant to denote a *win* and *loss* respectively for the row player Max.  The most basic of the algorithms we discussed was the MiniMax algorithm that considers all possible states of the game and ascends the tree by alternately choosing the minimum and maximum payoffs at each level.  Thus, we start by considering all of the row players possible moves, and next, all the column players potential responses.  \n",
    "\n",
    "\n",
    "\n",
    "![](https://upload.wikimedia.org/wikipedia/commons/e/e1/Plminmax.gif)"
   ]
  },
  {
   "cell_type": "markdown",
   "metadata": {
    "deletable": false,
    "editable": false,
    "nbgrader": {
     "grade": false,
     "locked": true,
     "solution": false
    }
   },
   "source": [
    "The problem with the basic MiniMax algorithm is that you first traverse all the way down every single branch of the tree and subsequently back up depending on the maximum and minimum values.  The `NegaMax` algorithm offers an improvement on this computation load by recognizing that if a branch begins with a value greater or less (depending on whether we are at a `max` or `min` node) we don't need to traverse further.  This is still the minimax, just not using as much computational resources.  This is the implementation we see demonstrated above.\n"
   ]
  },
  {
   "cell_type": "markdown",
   "metadata": {
    "deletable": false,
    "editable": false,
    "nbgrader": {
     "grade": false,
     "locked": true,
     "solution": false
    }
   },
   "source": [
    "<a id=\"q-relating\"></a>\n",
    "[Return to top](#questions)"
   ]
  },
  {
   "cell_type": "markdown",
   "metadata": {
    "deletable": false,
    "editable": false,
    "nbgrader": {
     "grade": false,
     "locked": true,
     "solution": false
    }
   },
   "source": [
    "---\n",
    "### Question 13: Relating Minimax to a Search Algorithm\n",
    "\n",
    "Which of the following search strategies describes the Minimax algorithm best?\n",
    "+ Your choices are:\n",
    "  + (a) Breadth-First Search\n",
    "  + (b) Depth-First Search\n",
    "  + (c) Neither\n",
    "  + (d) Both\n",
    "+ Provide your answer as a Python string (don't worry about upper or lower case).\n",
    "+ Assign the result to `ans_13`."
   ]
  },
  {
   "cell_type": "code",
   "execution_count": null,
   "metadata": {
    "collapsed": true
   },
   "outputs": [],
   "source": [
    "### GRADED\n",
    "### QUESTION 13\n",
    "### Which of the following strategies describes the Minimax algorithm best?\n",
    "### Provide your answer as a Python string.\n",
    "### For instance, ans_13 = 'c'\n",
    "### a) Breadth-First Search\n",
    "### b) Depth-First Search\n",
    "### c) Neither\n",
    "### d) Both\n",
    "### YOUR ANSWER BELOW:\n",
    "ans_13 = 'b'\n"
   ]
  },
  {
   "cell_type": "code",
   "execution_count": null,
   "metadata": {
    "collapsed": true,
    "deletable": false,
    "editable": false,
    "nbgrader": {
     "grade": true,
     "grade_id": "Question 13",
     "locked": true,
     "points": "3",
     "solution": false
    }
   },
   "outputs": [],
   "source": [
    "###\n",
    "### AUTOGRADER TEST - DO NOT REMOVE\n",
    "###\n"
   ]
  },
  {
   "cell_type": "markdown",
   "metadata": {
    "deletable": false,
    "editable": false,
    "nbgrader": {
     "grade": false,
     "locked": true,
     "solution": false
    }
   },
   "source": [
    "### Tic Tac Toe\n",
    "\n",
    "To demonstrate some of the fundamentals in analyzing a game by building and traversing a game tree, we will use the game of Tic Tac Toe.  We use the game to cover some of the fundamental ideas of connecting games to search problems.  To do so, we will write basic functions to implement the game and then use the EasyAI library to implement the Negamax algorithm to play against the computer in the game.  In this section, our functions will focus on:\n",
    "\n",
    "- An **`initial_state`** function\n",
    "- A **`player`** function\n",
    "- An **`action`** function\n",
    "- A **`result`** function\n",
    "- A **`terminal_test`** function\n",
    "- A **`utility`** function\n",
    "\n",
    "To begin, we need to decide on some conventions for our board.  Let us define a $3 \\times 3$ board as a nested list of lists.  Here, we will use empty strings to denote an empty cell.  "
   ]
  },
  {
   "cell_type": "markdown",
   "metadata": {
    "deletable": false,
    "editable": false,
    "nbgrader": {
     "grade": false,
     "locked": true,
     "solution": false
    }
   },
   "source": [
    "<a id=\"q-representing\"></a>\n",
    "[Return to top](#questions)"
   ]
  },
  {
   "cell_type": "markdown",
   "metadata": {
    "deletable": false,
    "editable": false,
    "nbgrader": {
     "grade": false,
     "locked": true,
     "solution": false
    }
   },
   "source": [
    "---\n",
    "### Question 14: Representing the Tic Tac Toe Board"
   ]
  },
  {
   "cell_type": "code",
   "execution_count": 7,
   "metadata": {
    "collapsed": true
   },
   "outputs": [],
   "source": [
    "### GRADED\n",
    "### QUESTION 14\n",
    "### Create an empty 3 by 3 game board represented using\n",
    "### a nested list of lists of empty strings.\n",
    "### Assign your response to the identifier ans_14\n",
    "### YOUR ANSWER BELOW:\n",
    "\n",
    "ans_14 = [['','',''] for _ in range(3)]# for i in range(3)]\n"
   ]
  },
  {
   "cell_type": "code",
   "execution_count": 8,
   "metadata": {},
   "outputs": [
    {
     "data": {
      "text/plain": [
       "[['', '', ''], ['', '', ''], ['', '', '']]"
      ]
     },
     "execution_count": 8,
     "metadata": {},
     "output_type": "execute_result"
    }
   ],
   "source": [
    "\n",
    "np.shape(ans_14)\n",
    "ans_14"
   ]
  },
  {
   "cell_type": "code",
   "execution_count": null,
   "metadata": {
    "collapsed": true,
    "deletable": false,
    "editable": false,
    "nbgrader": {
     "grade": true,
     "grade_id": "Question 14",
     "locked": true,
     "points": "5",
     "solution": false
    }
   },
   "outputs": [],
   "source": [
    "###\n",
    "### AUTOGRADER TEST - DO NOT REMOVE\n",
    "###\n"
   ]
  },
  {
   "cell_type": "markdown",
   "metadata": {
    "deletable": false,
    "editable": false,
    "nbgrader": {
     "grade": false,
     "locked": true,
     "solution": false
    }
   },
   "source": [
    "<a id=\"q-initial\"></a>\n",
    "[Return to top](#questions)"
   ]
  },
  {
   "cell_type": "code",
   "execution_count": null,
   "metadata": {
    "collapsed": true
   },
   "outputs": [],
   "source": []
  },
  {
   "cell_type": "code",
   "execution_count": null,
   "metadata": {
    "collapsed": true
   },
   "outputs": [],
   "source": []
  },
  {
   "cell_type": "markdown",
   "metadata": {
    "deletable": false,
    "editable": false,
    "nbgrader": {
     "grade": false,
     "locked": true,
     "solution": false
    }
   },
   "source": [
    "---\n",
    "### Question 15: Creating the Initial Tic Tac Toe Board\n",
    "\n",
    "**`initial_state`**\n",
    "\n",
    "Now, we write a function called initial state that takes no arguments and returns the initial state of the game board. \n",
    "\n",
    "```python\n",
    "def initial_state():\n",
    "    '''\n",
    "    This function returns an initial\n",
    "    empty tic-tac-toe board.\n",
    "    '''\n",
    "    return board\n",
    "```"
   ]
  },
  {
   "cell_type": "code",
   "execution_count": 9,
   "metadata": {
    "collapsed": true
   },
   "outputs": [],
   "source": [
    "### GRADED\n",
    "### QUESTION 15\n",
    "### Complete the function below.  Your \n",
    "### answer should return a game board\n",
    "### like the answer from Question 14\n",
    "### YOUR ANSWER BELOW:\n",
    "def initial_state():\n",
    "    '''\n",
    "    This function will return an empty game board when\n",
    "    called.  \n",
    "    '''\n",
    "    return ans_14\n",
    "###\n",
    "### YOUR CODE HERE\n",
    "###\n"
   ]
  },
  {
   "cell_type": "code",
   "execution_count": null,
   "metadata": {
    "collapsed": true,
    "deletable": false,
    "editable": false,
    "nbgrader": {
     "grade": true,
     "grade_id": "Question 15",
     "locked": true,
     "points": "5",
     "solution": false
    }
   },
   "outputs": [],
   "source": [
    "###\n",
    "### AUTOGRADER TEST - DO NOT REMOVE\n",
    "###\n"
   ]
  },
  {
   "cell_type": "code",
   "execution_count": 23,
   "metadata": {},
   "outputs": [
    {
     "data": {
      "text/plain": [
       "[['', '', ''], ['', '', ''], ['', '', '']]"
      ]
     },
     "execution_count": 23,
     "metadata": {},
     "output_type": "execute_result"
    }
   ],
   "source": [
    "ans_14\n"
   ]
  },
  {
   "cell_type": "markdown",
   "metadata": {
    "deletable": false,
    "editable": false,
    "nbgrader": {
     "grade": false,
     "locked": true,
     "solution": false
    }
   },
   "source": [
    "**`player`**\n",
    "\n",
    "Now, we need to write a `player` function.  Here, we assume that player $X$ will always go first.  Our function will then take a board as an argument, and return the Python string `'X'` or `'O'` according to which player's move it is.\n",
    "\n",
    "Notice that the character returned is upper case and the character `'O'` is the letter \"O\" and *not* the numeral for zero."
   ]
  },
  {
   "cell_type": "code",
   "execution_count": 10,
   "metadata": {
    "collapsed": true,
    "deletable": false,
    "editable": false,
    "nbgrader": {
     "grade": false,
     "locked": true,
     "solution": false
    }
   },
   "outputs": [],
   "source": [
    "def player(board):\n",
    "    '''\n",
    "    This function takes in a board\n",
    "    of tic-tac-toe, and determines\n",
    "    whose move it is\n",
    "    '''\n",
    "    x_count = 0\n",
    "    o_count = 0\n",
    "    for row in board:\n",
    "        for column in row:\n",
    "            if column == 'X':\n",
    "                x_count += 1\n",
    "            elif column == 'O':\n",
    "                o_count += 1\n",
    "    if x_count == o_count:\n",
    "        return 'X'\n",
    "    else:\n",
    "        return 'O'"
   ]
  },
  {
   "cell_type": "code",
   "execution_count": 12,
   "metadata": {},
   "outputs": [
    {
     "name": "stdout",
     "output_type": "stream",
     "text": [
      "['', '', '']\n",
      "['', '', '']\n",
      "['', '', '']\n",
      "['', '', '']\n",
      "['', '', '']\n",
      "['', '', '']\n",
      "['', '', '']\n",
      "['', '', '']\n",
      "['', '', '']\n"
     ]
    }
   ],
   "source": [
    "board = ans_14\n",
    "  \n",
    "#x_count = 0\n",
    "#o_count = 0\n",
    "for row in board:\n",
    "    for column in row:\n",
    "        print(row)\n",
    "#            if column == 'X':\n",
    "#                x_count += 1\n",
    "#            elif column == 'O':\n",
    "#                o_count += 1\n",
    "#    if x_count == o_count:\n",
    "#        return 'X'\n",
    "#    else:\n",
    "#        return 'O'"
   ]
  },
  {
   "cell_type": "markdown",
   "metadata": {
    "deletable": false,
    "editable": false,
    "nbgrader": {
     "grade": false,
     "locked": true,
     "solution": false
    }
   },
   "source": [
    "**`actions`**\n",
    "\n",
    "Now that we have a board and a way to determine the player, we want to take in a game board and return a set of all possible actions.  Here, we want to return a set of (row,column) tuples that identify possible moves for a player given the state of the board.\n",
    "\n",
    "```python\n",
    "def actions(board):\n",
    "    ...\n",
    "    return [(row,column), (row, column), ... ]\n",
    "```"
   ]
  },
  {
   "cell_type": "code",
   "execution_count": 11,
   "metadata": {
    "collapsed": true,
    "deletable": false,
    "editable": false,
    "nbgrader": {
     "grade": false,
     "locked": true,
     "solution": false
    }
   },
   "outputs": [],
   "source": [
    "def actions(board):\n",
    "    '''\n",
    "    This function takes in a board and returns the\n",
    "    a list of tuples of possible next moves.\n",
    "    '''\n",
    "    moves = []\n",
    "    for r, row in enumerate(board):\n",
    "        for c, val in enumerate(row):\n",
    "            if val == '':\n",
    "                moves.append((r, c))\n",
    "    return set(moves)"
   ]
  },
  {
   "cell_type": "code",
   "execution_count": 12,
   "metadata": {
    "deletable": false,
    "editable": false,
    "nbgrader": {
     "grade": false,
     "locked": true,
     "solution": false
    }
   },
   "outputs": [
    {
     "data": {
      "text/plain": [
       "{(0, 2), (1, 2), (2, 0)}"
      ]
     },
     "execution_count": 12,
     "metadata": {},
     "output_type": "execute_result"
    }
   ],
   "source": [
    "board = [['X','X',''],['O','O',''],['','O','X']]\n",
    "actions(board)"
   ]
  },
  {
   "cell_type": "code",
   "execution_count": 13,
   "metadata": {},
   "outputs": [
    {
     "data": {
      "text/plain": [
       "2"
      ]
     },
     "execution_count": 13,
     "metadata": {},
     "output_type": "execute_result"
    }
   ],
   "source": [
    "board = [['X','O','X'],['O','O',''],['','O','X']]\n",
    "len(list(enumerate(actions(board))))"
   ]
  },
  {
   "cell_type": "code",
   "execution_count": 25,
   "metadata": {},
   "outputs": [
    {
     "name": "stdout",
     "output_type": "stream",
     "text": [
      "(1, 2)\n",
      "(2, 0)\n"
     ]
    }
   ],
   "source": [
    "for b in (actions(board)):\n",
    "    print(b)"
   ]
  },
  {
   "cell_type": "code",
   "execution_count": 23,
   "metadata": {},
   "outputs": [
    {
     "data": {
      "text/plain": [
       "{(1, 2), (2, 0)}"
      ]
     },
     "execution_count": 23,
     "metadata": {},
     "output_type": "execute_result"
    }
   ],
   "source": [
    "actions(board)\n",
    "\n"
   ]
  },
  {
   "cell_type": "code",
   "execution_count": 27,
   "metadata": {
    "scrolled": true
   },
   "outputs": [
    {
     "name": "stdout",
     "output_type": "stream",
     "text": [
      "(0, 1)\n",
      "(1, 2)\n",
      "(2, 1)\n",
      "(2, 0)\n",
      "(2, 2)\n"
     ]
    },
    {
     "data": {
      "text/plain": [
       "(2, 2)"
      ]
     },
     "execution_count": 27,
     "metadata": {},
     "output_type": "execute_result"
    }
   ],
   "source": [
    "board = [['X','','X'],['O','O',''],['','','']]\n",
    "for row in actions(board):\n",
    "    print ( row)\n",
    "    #print (result(board, r))\n",
    "#len(actions(board))\n",
    "row"
   ]
  },
  {
   "cell_type": "code",
   "execution_count": 37,
   "metadata": {},
   "outputs": [
    {
     "data": {
      "text/plain": [
       "2"
      ]
     },
     "execution_count": 37,
     "metadata": {},
     "output_type": "execute_result"
    }
   ],
   "source": [
    "e = tuple(),()\n",
    "len(e)"
   ]
  },
  {
   "cell_type": "markdown",
   "metadata": {
    "deletable": false,
    "editable": false,
    "nbgrader": {
     "grade": false,
     "locked": true,
     "solution": false
    }
   },
   "source": [
    "**`result`**\n",
    "\n",
    "This function should take in a board and (row, column) tuple.  We will return a board having made the move for the appropriate player at the given location."
   ]
  },
  {
   "cell_type": "code",
   "execution_count": 22,
   "metadata": {
    "collapsed": true,
    "deletable": false,
    "editable": false,
    "nbgrader": {
     "grade": false,
     "locked": true,
     "solution": false
    }
   },
   "outputs": [],
   "source": [
    "def result(board, tup):\n",
    "    '''\n",
    "    This function takes in a tic tac toe\n",
    "    board and tuple of row and column location to \n",
    "    place the players move\n",
    "    '''\n",
    "    p = player(board)\n",
    "    board[tup[0]][tup[1]] = p\n",
    "    return board"
   ]
  },
  {
   "cell_type": "markdown",
   "metadata": {
    "deletable": false,
    "editable": false,
    "nbgrader": {
     "grade": false,
     "locked": true,
     "solution": false
    }
   },
   "source": [
    "**`terminal`**\n",
    "\n",
    "This function will take in a game board and return a boolean value for whether or not the board is in a terminal state (i.e., whether or not any further moves are possible).\n"
   ]
  },
  {
   "cell_type": "code",
   "execution_count": 13,
   "metadata": {
    "collapsed": true,
    "deletable": false,
    "editable": false,
    "nbgrader": {
     "grade": false,
     "locked": true,
     "solution": false
    }
   },
   "outputs": [],
   "source": [
    "def terminal(board):\n",
    "    '''\n",
    "    Given a game board, this function\n",
    "    returns whether or not the board is in\n",
    "    a terminal state.\n",
    "    '''\n",
    "    return not bool(actions(board))"
   ]
  },
  {
   "cell_type": "code",
   "execution_count": 37,
   "metadata": {
    "deletable": false,
    "editable": false,
    "nbgrader": {
     "grade": false,
     "locked": true,
     "solution": false
    }
   },
   "outputs": [
    {
     "name": "stdout",
     "output_type": "stream",
     "text": [
      "False\n",
      "False\n",
      "True\n"
     ]
    }
   ],
   "source": [
    "board_1 = [['', '', 'X'],\n",
    "          ['O', '', ''],\n",
    "          ['', '', '']]\n",
    "\n",
    "board_2 = [['X', 'O', 'X'],\n",
    "          ['O', '', ''],\n",
    "          ['', 'X', '']]\n",
    "\n",
    "board_3 = [['X', 'O', 'X'],\n",
    "          ['O', 'X', 'O'],\n",
    "          ['O', 'X', 'X']]\n",
    "\n",
    "print(terminal(board_1))\n",
    "print(terminal(board_2))\n",
    "print(terminal(board_3))"
   ]
  },
  {
   "cell_type": "code",
   "execution_count": 45,
   "metadata": {
    "collapsed": true
   },
   "outputs": [
    {
     "ename": "IndexError",
     "evalue": "tuple index out of range",
     "traceback": [
      "\u001b[0;31m---------------------------------------------------------------------------\u001b[0m",
      "\u001b[0;31mIndexError\u001b[0m                                Traceback (most recent call last)",
      "\u001b[0;32m<ipython-input-45-7c2f5945b823>\u001b[0m in \u001b[0;36m<module>\u001b[0;34m()\u001b[0m\n\u001b[0;32m----> 1\u001b[0;31m \u001b[0mresult\u001b[0m\u001b[0;34m(\u001b[0m\u001b[0mboard_3\u001b[0m\u001b[0;34m,\u001b[0m\u001b[0;34m(\u001b[0m\u001b[0;34m)\u001b[0m\u001b[0;34m)\u001b[0m\u001b[0;34m\u001b[0m\u001b[0m\n\u001b[0m",
      "\u001b[0;32m<ipython-input-17-73fdd77c24ed>\u001b[0m in \u001b[0;36mresult\u001b[0;34m(board, tup)\u001b[0m\n\u001b[1;32m      6\u001b[0m     '''\n\u001b[1;32m      7\u001b[0m     \u001b[0mp\u001b[0m \u001b[0;34m=\u001b[0m \u001b[0mplayer\u001b[0m\u001b[0;34m(\u001b[0m\u001b[0mboard\u001b[0m\u001b[0;34m)\u001b[0m\u001b[0;34m\u001b[0m\u001b[0m\n\u001b[0;32m----> 8\u001b[0;31m     \u001b[0mboard\u001b[0m\u001b[0;34m[\u001b[0m\u001b[0mtup\u001b[0m\u001b[0;34m[\u001b[0m\u001b[0;36m0\u001b[0m\u001b[0;34m]\u001b[0m\u001b[0;34m]\u001b[0m\u001b[0;34m[\u001b[0m\u001b[0mtup\u001b[0m\u001b[0;34m[\u001b[0m\u001b[0;36m1\u001b[0m\u001b[0;34m]\u001b[0m\u001b[0;34m]\u001b[0m \u001b[0;34m=\u001b[0m \u001b[0mp\u001b[0m\u001b[0;34m\u001b[0m\u001b[0m\n\u001b[0m\u001b[1;32m      9\u001b[0m     \u001b[0;32mreturn\u001b[0m \u001b[0mboard\u001b[0m\u001b[0;34m\u001b[0m\u001b[0m\n",
      "\u001b[0;31mIndexError\u001b[0m: tuple index out of range"
     ],
     "output_type": "error"
    }
   ],
   "source": []
  },
  {
   "cell_type": "markdown",
   "metadata": {
    "deletable": false,
    "editable": false,
    "nbgrader": {
     "grade": false,
     "locked": true,
     "solution": false
    }
   },
   "source": [
    "<a id=\"q-checking-row\"></a>\n",
    "[Return to top](#questions)"
   ]
  },
  {
   "cell_type": "markdown",
   "metadata": {
    "deletable": false,
    "editable": false,
    "nbgrader": {
     "grade": false,
     "locked": true,
     "solution": false
    }
   },
   "source": [
    "---\n",
    "### Question 16: Determining a Row Winner\n",
    "\n",
    "Having defined the functions `player`, `actions`, `result`, and `terminal`, your task is to design the remaining functions.\n",
    "\n",
    "First, complete the function `row_winners` that accepts a board as an input and returns `'X'` if player `'X'` has completed a row of the tic-tac-toe board, `'O'` if player `'O'` has completed a row of the tic-tac-toe board, or `None` if neither player has completed a row of the tis-tac-toe board."
   ]
  },
  {
   "cell_type": "code",
   "execution_count": 31,
   "metadata": {
    "collapsed": true
   },
   "outputs": [],
   "source": [
    "### GRADED\n",
    "### QUESTION 16\n",
    "def row_winners(board):\n",
    "    '''Returns \"X\" or \"O\" or None according to whether either one of the players\n",
    "    has achieved three symbols in a horizontal row.'''\n",
    "    for row in board:\n",
    "        if row.count('X') ==3:\n",
    "            return 'X'\n",
    "        elif row.count('O') ==3:\n",
    "            return 'O'\n",
    "\n",
    "###\n",
    "### YOUR CODE HERE\n",
    "###\n"
   ]
  },
  {
   "cell_type": "code",
   "execution_count": 32,
   "metadata": {
    "collapsed": true
   },
   "outputs": [],
   "source": [
    "import numpy as np\n",
    "\n",
    "\n",
    "board_1 = [['', '', 'X'],\n",
    "          ['O', '', ''],\n",
    "          ['', '', '']]\n",
    "\n",
    "board_2 = [['X', 'O', 'X'],\n",
    "          ['O', '', ''],\n",
    "          ['', 'X', '']]\n",
    "\n",
    "board_3 = [['X', 'O', 'X'],\n",
    "          ['O', 'X', 'O'],\n",
    "          ['O', 'X', 'X']]\n",
    "\n",
    "\n",
    "\n",
    "\n",
    "\n",
    "\n",
    "#for b in actions(board_1):\n",
    "#    print( ['X', 'X', 'X'] in result(board_1, b))\n",
    "\n",
    "['','','X'] in board_1\n",
    "#['','O',''] in enumerate(np.array(board_1).T)\n",
    "b_t = (np.array(board_1).T)\n",
    "#np.array(['','','X']).all(b_t)\n",
    "#b_a = np.array((board_1))\n",
    "#np.all(['X','','X'] in b_a, axis = 0)\n",
    "#['','','X'] in board_1 \n",
    "#['','','X'] in [col for col in board_1]\n",
    "#['','O',''] in list(zip(*board_1))\n",
    "#['','O',''] in [row for row in list(zip(*board_1))]\n",
    "#list(zip(*board_1))\n",
    "row_winners(board_3)"
   ]
  },
  {
   "cell_type": "code",
   "execution_count": null,
   "metadata": {
    "collapsed": true,
    "deletable": false,
    "editable": false,
    "nbgrader": {
     "grade": true,
     "grade_id": "Question 16",
     "locked": true,
     "points": "10",
     "solution": false
    }
   },
   "outputs": [],
   "source": [
    "###\n",
    "### AUTOGRADER TEST - DO NOT REMOVE\n",
    "###\n"
   ]
  },
  {
   "cell_type": "markdown",
   "metadata": {
    "deletable": false,
    "editable": false,
    "nbgrader": {
     "grade": false,
     "locked": true,
     "solution": false
    }
   },
   "source": [
    "<a id=\"q-checking-col\"></a>\n",
    "[Return to top](#questions)"
   ]
  },
  {
   "cell_type": "markdown",
   "metadata": {
    "deletable": false,
    "editable": false,
    "nbgrader": {
     "grade": false,
     "locked": true,
     "solution": false
    }
   },
   "source": [
    "---\n",
    "### Question 17: Determining a Column Winner\n",
    "\n",
    "**`column_winners`**\n",
    "\n",
    "This function is similar to our `row_winners` but will determine if one of the players has won column winners by placing completing a column with their symbol. It should return the winner as `'X'`, `'O'`, or `None`."
   ]
  },
  {
   "cell_type": "code",
   "execution_count": 34,
   "metadata": {},
   "outputs": [],
   "source": [
    "### GRADED\n",
    "### QUESTION 17\n",
    "def column_winners(board):\n",
    "    '''Returns \"X\" or \"O\" or None according to whether either one of the players\n",
    "    has achieved three symbols in a vertical column.'''\n",
    "    board_T_list = list(map(list, zip(*board)))\n",
    "    return row_winners(board_T_list)\n",
    "   \n",
    "###\n",
    "### YOUR CODE HERE\n",
    "###\n"
   ]
  },
  {
   "cell_type": "code",
   "execution_count": null,
   "metadata": {
    "collapsed": true,
    "deletable": false,
    "editable": false,
    "nbgrader": {
     "grade": true,
     "grade_id": "Question 17",
     "locked": true,
     "points": "10",
     "solution": false
    }
   },
   "outputs": [],
   "source": [
    "###\n",
    "### AUTOGRADER TEST - DO NOT REMOVE\n",
    "###\n"
   ]
  },
  {
   "cell_type": "code",
   "execution_count": 71,
   "metadata": {},
   "outputs": [
    {
     "data": {
      "text/plain": [
       "'none'"
      ]
     },
     "execution_count": 71,
     "metadata": {},
     "output_type": "execute_result"
    }
   ],
   "source": [
    "column_winners(board_1)"
   ]
  },
  {
   "cell_type": "markdown",
   "metadata": {
    "deletable": false,
    "editable": false,
    "nbgrader": {
     "grade": false,
     "locked": true,
     "solution": false
    }
   },
   "source": [
    "<a id=\"q-checking-diag\"></a>\n",
    "[Return to top](#questions)"
   ]
  },
  {
   "cell_type": "markdown",
   "metadata": {
    "deletable": false,
    "editable": false,
    "nbgrader": {
     "grade": false,
     "locked": true,
     "solution": false
    }
   },
   "source": [
    "---\n",
    "### Question 18: Checking for a Diagonal Winner\n",
    "\n",
    "**`diagonal_winners`**\n",
    "\n",
    "This function will take in a game board and return whether or not there is a diagonal win.  It should return the winner as `X`, `O`, or `None`."
   ]
  },
  {
   "cell_type": "code",
   "execution_count": 35,
   "metadata": {
    "collapsed": true
   },
   "outputs": [],
   "source": [
    "### GRADED\n",
    "### QUESTION 18\n",
    "def diagonal_winners(board):\n",
    "    '''Returns \"X\" or \"O\" or None according to whether either one of the players\n",
    "    has achieved three symbols in sequence along either diagonal.'''\n",
    "    if board[1][1] == board[0][0] and board[1][1] == board[2][2]:\n",
    "        return board[1][1]\n",
    "    if board [1][1] == board[0][2] and board[1][1] == board[2][0]:\n",
    "        return board[1][1]\n",
    "###\n",
    "### YOUR CODE HERE\n",
    "###\n"
   ]
  },
  {
   "cell_type": "code",
   "execution_count": null,
   "metadata": {
    "collapsed": true,
    "deletable": false,
    "editable": false,
    "nbgrader": {
     "grade": true,
     "grade_id": "Question 18",
     "locked": true,
     "points": "10",
     "solution": false
    }
   },
   "outputs": [],
   "source": [
    "###\n",
    "### AUTOGRADER TEST - DO NOT REMOVE\n",
    "###\n"
   ]
  },
  {
   "cell_type": "markdown",
   "metadata": {
    "deletable": false,
    "editable": false,
    "nbgrader": {
     "grade": false,
     "locked": true,
     "solution": false
    }
   },
   "source": [
    "<a id=\"q-computing-utility\"></a>\n",
    "[Return to top](#questions)"
   ]
  },
  {
   "cell_type": "markdown",
   "metadata": {
    "deletable": false,
    "editable": false,
    "nbgrader": {
     "grade": false,
     "locked": true,
     "solution": false
    }
   },
   "source": [
    "### Question 19: Computing the Utility\n",
    "\n",
    "**`utility`**\n",
    "\n",
    "This function will take in a board and return a numerical score (i.e., an integer) as follows:\n",
    "\n",
    "- If player `'X'` wins, return `+1`\n",
    "- If player `'O'` wins, return `-1`\n",
    "- If Nobody wins, return `0` (that's the integer zero, not the alphabetical letter `'O'`)"
   ]
  },
  {
   "cell_type": "code",
   "execution_count": 36,
   "metadata": {
    "collapsed": true
   },
   "outputs": [],
   "source": [
    "### GRADED\n",
    "### QUESTION 19\n",
    "### Complete the function utility as specified.\n",
    "def utility(board):\n",
    "    '''Returns +1, -1 or 0 according to whether player X, player O, or neither player\n",
    "    respectively has won the game.'''\n",
    "    row = row_winners(board)\n",
    "    cols = column_winners(board)\n",
    "    diag = diagonal_winners(board)\n",
    "    if (cols == 'X') or (row == 'X') or (diag == 'X'):\n",
    "        return +1\n",
    "    elif (cols == 'O') or (row == 'O') or (diag == 'O'):\n",
    "        return -1\n",
    "    else:\n",
    "        return 0\n",
    "###\n",
    "### YOUR CODE HERE\n",
    "###\n"
   ]
  },
  {
   "cell_type": "code",
   "execution_count": null,
   "metadata": {
    "collapsed": true,
    "deletable": false,
    "editable": false,
    "nbgrader": {
     "grade": true,
     "grade_id": "Question 19",
     "locked": true,
     "points": "10",
     "solution": false
    }
   },
   "outputs": [],
   "source": [
    "###\n",
    "### AUTOGRADER TEST - DO NOT REMOVE\n",
    "###\n"
   ]
  },
  {
   "cell_type": "markdown",
   "metadata": {
    "deletable": false,
    "editable": false,
    "nbgrader": {
     "grade": false,
     "locked": true,
     "solution": false
    }
   },
   "source": [
    "### The Game Tree\n",
    "\n",
    "Congratulations, you now have all the ingredients necessary for building the game tree for tic-tac-toe.  Similar to what we saw in the first assignment, we could represent a tree as a dictionary where each key corresponds to a ply in the game tree and contains the nodes available at that level.\n",
    "\n",
    "![](https://upload.wikimedia.org/wikipedia/commons/thumb/d/da/Tic-tac-toe-game-tree.svg/440px-Tic-tac-toe-game-tree.svg.png)\n",
    "\n",
    "We now move to use an existing library called [**EasyAI**](http://zulko.github.io/easyAI/) to model playing games. This library uses a class comprised of methods similar to our functions developed above to implement the game.  In addition to the game representation, we will use the `TwoPlayerGame` class and implement a `Negamax` algorithm as discussed above.  The game class in **EasyAI** has consistent methods that are required to describe a game.  Notably we have:\n",
    "\n",
    "- `__init__(self, players, ...)` : initialization of the game\n",
    "- `possible_moves(self)` : returns of all moves allowed\n",
    "- `make_move(self, move)`: transforms the game according to the move\n",
    "- `is_over(self)`: check whether the game has ended\n",
    "\n",
    "Note the similarity to our eariler functions above. Please check out the complete documentation [here](http://zulko.github.io/easyAI/).\n",
    "\n",
    "<center>\n",
    "    <img src = 'http://zulko.github.io/easyAI/_static/logo.jpeg'>\n",
    "    </center>"
   ]
  },
  {
   "cell_type": "markdown",
   "metadata": {
    "deletable": false,
    "editable": false,
    "nbgrader": {
     "grade": false,
     "locked": true,
     "solution": false
    }
   },
   "source": [
    "<a id=\"q-using-easyai\"></a>\n",
    "[Return to top](#questions)"
   ]
  },
  {
   "cell_type": "markdown",
   "metadata": {
    "deletable": false,
    "editable": false,
    "nbgrader": {
     "grade": false,
     "locked": true,
     "solution": false
    }
   },
   "source": [
    "---\n",
    "### Question 20: Using the `easyAI` Class\n",
    "\n",
    "From the functions defined above, which corresponds to the `__init__` method as required for modelling games with `easyAI`'s `TwoPlayerGame` class?\n",
    "\n",
    "+ Assign your answer as a Python string to `ans_20` from the following choices:\n",
    "  + (a) `terminal`\n",
    "  + (b) `utility`\n",
    "  + (c) `initial_state`\n",
    "  + (d) `action`\n",
    "  + (e) `player`\n",
    "+ You can use any of the letters to `a` through `e` to represent your answer (don't worry about upper or lower case)."
   ]
  },
  {
   "cell_type": "code",
   "execution_count": null,
   "metadata": {
    "collapsed": true
   },
   "outputs": [],
   "source": [
    "### GRADED\n",
    "### QUESTION 20\n",
    "### Assign an appropriate string to ans_20 as requested above.\n",
    "### YOUR ANSWER BELOW:\n",
    "ans_20 = 'c'\n"
   ]
  },
  {
   "cell_type": "code",
   "execution_count": null,
   "metadata": {
    "collapsed": true,
    "deletable": false,
    "editable": false,
    "nbgrader": {
     "grade": true,
     "grade_id": "Question 20",
     "locked": true,
     "points": "3",
     "solution": false
    }
   },
   "outputs": [],
   "source": [
    "###\n",
    "### AUTOGRADER TEST - DO NOT REMOVE\n",
    "###\n"
   ]
  },
  {
   "cell_type": "markdown",
   "metadata": {
    "deletable": false,
    "editable": false,
    "nbgrader": {
     "grade": false,
     "locked": true,
     "solution": false
    }
   },
   "source": [
    "The example below comes from **EasyAI**'s documentation and shows a full implementation of a Tic-Tac-Toe game."
   ]
  },
  {
   "cell_type": "code",
   "execution_count": null,
   "metadata": {
    "collapsed": true,
    "deletable": false,
    "editable": false,
    "nbgrader": {
     "grade": false,
     "locked": true,
     "solution": false
    }
   },
   "outputs": [],
   "source": [
    "### from http://zulko.github.io/easyAI/examples/games.html\n",
    "from easyAI import TwoPlayersGame\n",
    "from easyAI.Player import Human_Player\n",
    "\n",
    "class TicTacToe( TwoPlayersGame ):\n",
    "    \"\"\" The board positions are numbered as follows:\n",
    "            7 8 9\n",
    "            4 5 6\n",
    "            1 2 3\n",
    "    \"\"\"    \n",
    "\n",
    "    def __init__(self, players):\n",
    "        self.players = players\n",
    "        self.board = [0 for i in range(9)]\n",
    "        self.nplayer = 1 # player 1 starts.\n",
    "    \n",
    "    def possible_moves(self):\n",
    "        return [i+1 for i,e in enumerate(self.board) if e==0]\n",
    "    \n",
    "    def make_move(self, move):\n",
    "        self.board[int(move)-1] = self.nplayer\n",
    "\n",
    "    def unmake_move(self, move): # optional method (speeds up the AI)\n",
    "        self.board[int(move)-1] = 0\n",
    "    \n",
    "    def lose(self):\n",
    "        \"\"\" Has the opponent \"three in line ?\" \"\"\"\n",
    "        return any( [all([(self.board[c-1]== self.nopponent)\n",
    "                      for c in line])\n",
    "                      for line in [[1,2,3],[4,5,6],[7,8,9], # horiz.\n",
    "                                   [1,4,7],[2,5,8],[3,6,9], # vertical\n",
    "                                   [1,5,9],[3,5,7]]]) # diagonal\n",
    "        \n",
    "    def is_over(self):\n",
    "        return (self.possible_moves() == []) or self.lose()\n",
    "        \n",
    "    def show(self):\n",
    "        print ('\\n'+'\\n'.join([\n",
    "                        ' '.join([['.','O','X'][self.board[3*j+i]]\n",
    "                        for i in range(3)])\n",
    "                 for j in range(3)]) )\n",
    "                 \n",
    "    def scoring(self):\n",
    "        return -100 if self.lose() else 0"
   ]
  },
  {
   "cell_type": "markdown",
   "metadata": {
    "deletable": false,
    "editable": false,
    "nbgrader": {
     "grade": false,
     "locked": true,
     "solution": false
    }
   },
   "source": [
    "From here, we simply have to define who is playing -- Humans or Bots -- and an approach for playing -- i.e. an algorithm. Uncomment and execute the cell below to play a game agains the `Negamax` algorithm.  \n",
    "\n",
    "When prompted \"Player 1 what do you play ?\" you can enter a numeral from 1 to 9 (corresponding to the positions in the tic-tac-toe board ordered row-wise)."
   ]
  },
  {
   "cell_type": "code",
   "execution_count": null,
   "metadata": {
    "collapsed": true
   },
   "outputs": [],
   "source": [
    "from easyAI import AI_Player, Negamax\n",
    "## uncomment to run\n",
    "# ai_algo = Negamax(6)\n",
    "# TicTacToe( [Human_Player(),AI_Player(ai_algo)]).play()"
   ]
  },
  {
   "cell_type": "markdown",
   "metadata": {
    "deletable": false,
    "editable": false,
    "nbgrader": {
     "grade": false,
     "locked": true,
     "solution": false
    }
   },
   "source": [
    "Solving the game of Tic-Tac-Toe would mean investigating the results of a single players outcomes and determining if there is a way for them to always win.  The code below will solve our game and determine if a player can always win.  Uncomment the code and examine the outcome of solving the `TicTacToe` game class."
   ]
  },
  {
   "cell_type": "code",
   "execution_count": null,
   "metadata": {
    "collapsed": true
   },
   "outputs": [],
   "source": [
    "from easyAI import id_solve\n",
    "r,d,m = id_solve(TicTacToe, ai_depths=range(2,20), win_score=100)"
   ]
  },
  {
   "cell_type": "markdown",
   "metadata": {
    "deletable": false,
    "editable": false,
    "nbgrader": {
     "grade": false,
     "locked": true,
     "solution": false
    }
   },
   "source": [
    "<a id=\"q-winning-tictactoe\"></a>\n",
    "[Return to top](#questions)"
   ]
  },
  {
   "cell_type": "markdown",
   "metadata": {
    "deletable": false,
    "editable": false,
    "nbgrader": {
     "grade": false,
     "locked": true,
     "solution": false
    }
   },
   "source": [
    "---\n",
    "### Question 21: Identifying a `TicTacToe` Winner\n",
    "\n",
    "Is it possible for the first player to always win at `TicTacToe` independent of what the second player does?\n",
    "\n",
    "+ Assign your answer to `ans_21` as `True` or `False` (i.e., a Python boolean literal).\n",
    "+ Consult the `easyAI` documentation for [`id_solve`](http://zulko.github.io/easyAI/ref.html?highlight=id_solve#easyAI.AI.solving.id_solve) to gain insight."
   ]
  },
  {
   "cell_type": "code",
   "execution_count": 37,
   "metadata": {
    "collapsed": true
   },
   "outputs": [],
   "source": [
    "### GRADED\n",
    "### QUESTION 21\n",
    "### Can the first TicTacToe player *always* win no matter what the\n",
    "###       second player does?\n",
    "### Assign a Python boolean value (True or False) to ans_21 accordingly.\n",
    "### YOUR ANSWER BELOW:\n",
    "ans_21 = False\n"
   ]
  },
  {
   "cell_type": "code",
   "execution_count": null,
   "metadata": {
    "collapsed": true,
    "deletable": false,
    "editable": false,
    "nbgrader": {
     "grade": true,
     "grade_id": "Question 21",
     "locked": true,
     "points": "3",
     "solution": false
    }
   },
   "outputs": [],
   "source": [
    "###\n",
    "### AUTOGRADER TEST - DO NOT REMOVE\n",
    "###\n"
   ]
  }
 ],
 "metadata": {
  "celltoolbar": "Edit Metadata",
  "kernelspec": {
   "display_name": "Python 3",
   "language": "python",
   "name": "python3"
  },
  "language_info": {
   "codemirror_mode": {
    "name": "ipython",
    "version": 3
   },
   "file_extension": ".py",
   "mimetype": "text/x-python",
   "name": "python",
   "nbconvert_exporter": "python",
   "pygments_lexer": "ipython3",
   "version": "3.7.1"
  }
 },
 "nbformat": 4,
 "nbformat_minor": 4
}
